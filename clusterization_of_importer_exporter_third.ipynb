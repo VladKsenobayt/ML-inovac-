{
 "cells": [
  {
   "cell_type": "raw",
   "id": "161b7d2e",
   "metadata": {},
   "source": [
    "Используя данные датасета  реализовать задачу кластеризации. Необходимо выделить  страны экспортеры и страны импортеры пшеницы. Выделить лидеров рынка по производству и по внутреннему потреблению. Оценить процент импорта/экспорта относительно внутреннего потребления.\n",
    "\n",
    "Подготовьте данные  - оставьте только страны\n",
    "\n",
    "Создайте матрицу ошибок\n",
    "\n",
    "Выберите метод кластеризации:\n",
    "\n",
    " - Иерархическая кластеризация\n",
    "\n",
    " - DBSCAN\n",
    "\n",
    " - k-Means\n",
    "\n",
    "Оценить качество полученной модели используя  precision, recall и F-меру\n",
    "\n",
    "Оценить модель в целом, не привязываясь к конкретному порогу:\n",
    "\n",
    " - AUC-ROC (или ROC AUC) — площадь (Area Under Curve) под кривой ошибок (Receiver Operating Characteristic curve )\n",
    "\n",
    " - Logistic Loss\n",
    "\n",
    "Оформить результаты.\n",
    "\n",
    "В процессе работы этапы иллюстрировать графиками графиками.\n",
    "\n",
    "Дополнительные материалы:\n",
    "\n",
    "Матрица ошибок - это матрица размером N x N, используемая для оценки эффективности модели классификации, где N - количество целевых классов. Матрица сравнивает фактические целевые значения с предсказанными моделью машинного обучения. \n",
    "\n",
    "Матрица ошибок  —  это простой способ визуально оценить, насколько часто предсказания классификатора оказываются верными."
   ]
  },
  {
   "cell_type": "code",
   "execution_count": 1,
   "id": "dc8594b9",
   "metadata": {},
   "outputs": [],
   "source": [
    "#Импорты библиотек\n",
    "import pandas as pd\n",
    "import numpy  as np\n",
    "from sklearn.model_selection import train_test_split\n",
    "import seaborn as sns\n",
    "import matplotlib.pyplot as plt\n",
    "from sklearn.preprocessing import PolynomialFeatures\n",
    "from sklearn.metrics import r2_score, confusion_matrix, f1_score, accuracy_score, precision_score, recall_score, roc_curve, auc, roc_auc_score, log_loss\n",
    "from sklearn.linear_model import LinearRegression\n",
    "from func import analize_df\n",
    "from sklearn.cluster import DBSCAN\n",
    "from sklearn.neighbors import KNeighborsClassifier\n",
    "from sklearn.cluster import AgglomerativeClustering\n",
    "from sklearn.cluster import AgglomerativeClustering\n",
    "from sklearn.cluster import AgglomerativeClustering"
   ]
  },
  {
   "cell_type": "code",
   "execution_count": 2,
   "id": "5abf573d",
   "metadata": {},
   "outputs": [
    {
     "data": {
      "text/html": [
       "<div>\n",
       "<style scoped>\n",
       "    .dataframe tbody tr th:only-of-type {\n",
       "        vertical-align: middle;\n",
       "    }\n",
       "\n",
       "    .dataframe tbody tr th {\n",
       "        vertical-align: top;\n",
       "    }\n",
       "\n",
       "    .dataframe thead th {\n",
       "        text-align: right;\n",
       "    }\n",
       "</style>\n",
       "<table border=\"1\" class=\"dataframe\">\n",
       "  <thead>\n",
       "    <tr style=\"text-align: right;\">\n",
       "      <th></th>\n",
       "      <th>code</th>\n",
       "      <th>report_month</th>\n",
       "      <th>region</th>\n",
       "      <th>commodity</th>\n",
       "      <th>item</th>\n",
       "      <th>year</th>\n",
       "      <th>period</th>\n",
       "      <th>value</th>\n",
       "      <th>min_value</th>\n",
       "      <th>max_value</th>\n",
       "    </tr>\n",
       "  </thead>\n",
       "  <tbody>\n",
       "    <tr>\n",
       "      <th>0</th>\n",
       "      <td>WHEAT_WORLD_19</td>\n",
       "      <td>2023-09</td>\n",
       "      <td>World Less China</td>\n",
       "      <td>Wheat</td>\n",
       "      <td>Production</td>\n",
       "      <td>2023/24 Proj.</td>\n",
       "      <td>Sep</td>\n",
       "      <td>650.34</td>\n",
       "      <td>NaN</td>\n",
       "      <td>NaN</td>\n",
       "    </tr>\n",
       "    <tr>\n",
       "      <th>1</th>\n",
       "      <td>WHEAT_WORLD_19</td>\n",
       "      <td>2023-09</td>\n",
       "      <td>World Less China</td>\n",
       "      <td>Wheat</td>\n",
       "      <td>Production</td>\n",
       "      <td>2023/24 Proj.</td>\n",
       "      <td>Aug</td>\n",
       "      <td>656.37</td>\n",
       "      <td>NaN</td>\n",
       "      <td>NaN</td>\n",
       "    </tr>\n",
       "    <tr>\n",
       "      <th>2</th>\n",
       "      <td>WHEAT_WORLD_19</td>\n",
       "      <td>2023-09</td>\n",
       "      <td>World Less China</td>\n",
       "      <td>Wheat</td>\n",
       "      <td>Imports</td>\n",
       "      <td>2023/24 Proj.</td>\n",
       "      <td>Sep</td>\n",
       "      <td>194.62</td>\n",
       "      <td>NaN</td>\n",
       "      <td>NaN</td>\n",
       "    </tr>\n",
       "    <tr>\n",
       "      <th>3</th>\n",
       "      <td>WHEAT_WORLD_19</td>\n",
       "      <td>2023-09</td>\n",
       "      <td>World Less China</td>\n",
       "      <td>Wheat</td>\n",
       "      <td>Imports</td>\n",
       "      <td>2023/24 Proj.</td>\n",
       "      <td>Aug</td>\n",
       "      <td>195.39</td>\n",
       "      <td>NaN</td>\n",
       "      <td>NaN</td>\n",
       "    </tr>\n",
       "    <tr>\n",
       "      <th>4</th>\n",
       "      <td>WHEAT_WORLD_19</td>\n",
       "      <td>2023-09</td>\n",
       "      <td>World Less China</td>\n",
       "      <td>Wheat</td>\n",
       "      <td>Exports</td>\n",
       "      <td>2023/24 Proj.</td>\n",
       "      <td>Sep</td>\n",
       "      <td>206.44</td>\n",
       "      <td>NaN</td>\n",
       "      <td>NaN</td>\n",
       "    </tr>\n",
       "  </tbody>\n",
       "</table>\n",
       "</div>"
      ],
      "text/plain": [
       "             code report_month            region commodity        item  \\\n",
       "0  WHEAT_WORLD_19      2023-09  World Less China     Wheat  Production   \n",
       "1  WHEAT_WORLD_19      2023-09  World Less China     Wheat  Production   \n",
       "2  WHEAT_WORLD_19      2023-09  World Less China     Wheat     Imports   \n",
       "3  WHEAT_WORLD_19      2023-09  World Less China     Wheat     Imports   \n",
       "4  WHEAT_WORLD_19      2023-09  World Less China     Wheat     Exports   \n",
       "\n",
       "            year period   value  min_value  max_value  \n",
       "0  2023/24 Proj.    Sep  650.34        NaN        NaN  \n",
       "1  2023/24 Proj.    Aug  656.37        NaN        NaN  \n",
       "2  2023/24 Proj.    Sep  194.62        NaN        NaN  \n",
       "3  2023/24 Proj.    Aug  195.39        NaN        NaN  \n",
       "4  2023/24 Proj.    Sep  206.44        NaN        NaN  "
      ]
     },
     "execution_count": 2,
     "metadata": {},
     "output_type": "execute_result"
    }
   ],
   "source": [
    "#Загрузить датасет в Python.\n",
    "\n",
    "df = pd.read_csv('WASDE-DATA.csv')\n",
    "\n",
    "df.head()#код отчета_месяц регион товарная позиция год значение периода min_value max_value"
   ]
  },
  {
   "cell_type": "code",
   "execution_count": 7,
   "id": "d53a61c8",
   "metadata": {},
   "outputs": [
    {
     "data": {
      "text/plain": [
       "World Less China      441\n",
       "N. Africa 7/          441\n",
       "Canada                441\n",
       "China                 441\n",
       "India                 441\n",
       "Japan                 441\n",
       "Kazakhstan            441\n",
       "World 3/              441\n",
       "Major Importers 6/    441\n",
       "Major Exporters 4/    441\n",
       "Nigeria               441\n",
       "Russia                441\n",
       "Sel. Mideast 8/       441\n",
       "Southeast Asia 9/     441\n",
       "Total Foreign         441\n",
       "Ukraine               441\n",
       "United States         441\n",
       "Brazil                438\n",
       "Bangladesh            427\n",
       "Australia             427\n",
       "Argentina             427\n",
       "European Union 5/     385\n",
       "United Kingdom        343\n",
       "EU-27+UK 5/            56\n",
       "Name: region, dtype: int64"
      ]
     },
     "execution_count": 7,
     "metadata": {},
     "output_type": "execute_result"
    }
   ],
   "source": [
    "df['region'].value_counts()"
   ]
  },
  {
   "cell_type": "code",
   "execution_count": 8,
   "id": "0c12143e",
   "metadata": {},
   "outputs": [
    {
     "name": "stdout",
     "output_type": "stream",
     "text": [
      "dtypes\n",
      "code             object\n",
      "report_month     object\n",
      "region           object\n",
      "commodity        object\n",
      "item             object\n",
      "year             object\n",
      "period           object\n",
      "value           float64\n",
      "min_value       float64\n",
      "max_value       float64\n",
      "dtype: object\n",
      "shape\n",
      "(6031, 10)\n",
      "isnull\n",
      "code               0\n",
      "report_month       0\n",
      "region             0\n",
      "commodity          0\n",
      "item               0\n",
      "year               0\n",
      "period             0\n",
      "value              0\n",
      "min_value       6031\n",
      "max_value       6031\n",
      "dtype: int64\n",
      "value_counts\n",
      "\n",
      "\n",
      "code 1 !!!!!!!!!!!!!!!!!!!!!!/\n",
      "WHEAT_WORLD_19    6031\n",
      "Name: code, dtype: int64\n",
      "\n",
      "\n",
      "report_month 33 !!!!!!!!!!!!!!!!!!!!!!/\n",
      "2023-09    196\n",
      "2022-06    196\n",
      "2021-06    196\n",
      "2021-07    196\n",
      "2021-08    196\n",
      "2021-09    196\n",
      "2021-10    196\n",
      "2021-11    196\n",
      "2021-12    196\n",
      "2022-01    196\n",
      "2023-08    196\n",
      "2022-03    196\n",
      "2022-02    196\n",
      "2022-07    196\n",
      "2022-12    196\n",
      "2023-07    196\n",
      "2023-04    196\n",
      "2023-01    196\n",
      "2023-06    196\n",
      "2022-11    196\n",
      "2022-10    196\n",
      "2022-09    196\n",
      "2022-08    196\n",
      "2021-04    182\n",
      "2021-03    182\n",
      "2021-02    182\n",
      "2021-01    182\n",
      "2020-12    182\n",
      "2020-11    182\n",
      "2020-10    137\n",
      "2023-05     98\n",
      "2022-05     98\n",
      "2021-05     98\n",
      "Name: report_month, dtype: int64\n",
      "\n",
      "\n",
      "region 14 !!!!!!!!!!!!!!!!!!!!!!/\n",
      "United States     441\n",
      "Ukraine           441\n",
      "Russia            441\n",
      "Nigeria           441\n",
      "Kazakhstan        441\n",
      "Japan             441\n",
      "India             441\n",
      "China             441\n",
      "Canada            441\n",
      "Brazil            438\n",
      "Bangladesh        427\n",
      "Australia         427\n",
      "Argentina         427\n",
      "United Kingdom    343\n",
      "Name: region, dtype: int64\n",
      "\n",
      "\n",
      "commodity 1 !!!!!!!!!!!!!!!!!!!!!!/\n",
      "Wheat    6031\n",
      "Name: commodity, dtype: int64\n",
      "\n",
      "\n",
      "item 7 !!!!!!!!!!!!!!!!!!!!!!/\n",
      "Production           862\n",
      "Imports              862\n",
      "Exports              862\n",
      "Ending Stocks        862\n",
      "Domestic Total 2/    862\n",
      "Domestic Feed        861\n",
      "Beginning Stocks     860\n",
      "Name: item, dtype: int64\n",
      "\n",
      "\n",
      "year 4 !!!!!!!!!!!!!!!!!!!!!!/\n",
      "2021/22 Proj.    2058\n",
      "2022/23 Proj.    1862\n",
      "2020/21 Proj.    1229\n",
      "2023/24 Proj.     882\n",
      "Name: year, dtype: int64\n",
      "\n",
      "\n",
      "period 12 !!!!!!!!!!!!!!!!!!!!!!/\n",
      "Aug    588\n",
      "Jul    588\n",
      "Jun    588\n",
      "May    588\n",
      "Dec    574\n",
      "Nov    574\n",
      "Sep    559\n",
      "Oct    551\n",
      "Jan    476\n",
      "Mar    378\n",
      "Feb    378\n",
      "Apr    189\n",
      "Name: period, dtype: int64\n",
      "\n",
      "\n",
      "value 671 !!!!!!!!!!!!!!!!!!!!!!/\n",
      "0.30     115\n",
      "0.00     111\n",
      "0.60     110\n",
      "0.05      88\n",
      "0.50      87\n",
      "        ... \n",
      "30.62      1\n",
      "29.94      1\n",
      "14.50      1\n",
      "3.34       1\n",
      "6.48       1\n",
      "Name: value, Length: 671, dtype: int64\n",
      "\n",
      "\n",
      "min_value 1 !!!!!!!!!!!!!!!!!!!!!!/\n",
      "Series([], Name: min_value, dtype: int64)\n",
      "\n",
      "\n",
      "max_value 1 !!!!!!!!!!!!!!!!!!!!!!/\n",
      "Series([], Name: max_value, dtype: int64)\n"
     ]
    }
   ],
   "source": [
    "#Извлекаем страны...\n",
    "df=df[df['region'].isin(['Canada','China','United Kingdom','Argentina','Australia','Bangladesh','Brazil','United States','Ukraine','Russia','Nigeria','Kazakhstan','Japan','India'])]\n",
    "analize_df(df)"
   ]
  },
  {
   "cell_type": "code",
   "execution_count": 9,
   "id": "c8843156",
   "metadata": {},
   "outputs": [
    {
     "name": "stdout",
     "output_type": "stream",
     "text": [
      "dtypes\n",
      "code             object\n",
      "report_month     object\n",
      "region           object\n",
      "commodity        object\n",
      "item             object\n",
      "year             object\n",
      "period           object\n",
      "value           float64\n",
      "min_value       float64\n",
      "max_value       float64\n",
      "dtype: object\n",
      "shape\n",
      "(3447, 10)\n",
      "isnull\n",
      "code               0\n",
      "report_month       0\n",
      "region             0\n",
      "commodity          0\n",
      "item               0\n",
      "year               0\n",
      "period             0\n",
      "value              0\n",
      "min_value       3447\n",
      "max_value       3447\n",
      "dtype: int64\n",
      "value_counts\n",
      "\n",
      "\n",
      "code 1 !!!!!!!!!!!!!!!!!!!!!!/\n",
      "WHEAT_WORLD_19    3447\n",
      "Name: code, dtype: int64\n",
      "\n",
      "\n",
      "report_month 33 !!!!!!!!!!!!!!!!!!!!!!/\n",
      "2023-09    112\n",
      "2022-06    112\n",
      "2021-06    112\n",
      "2021-07    112\n",
      "2021-08    112\n",
      "2021-09    112\n",
      "2021-10    112\n",
      "2021-11    112\n",
      "2021-12    112\n",
      "2022-01    112\n",
      "2023-08    112\n",
      "2022-03    112\n",
      "2022-02    112\n",
      "2022-07    112\n",
      "2022-12    112\n",
      "2023-07    112\n",
      "2023-04    112\n",
      "2023-01    112\n",
      "2023-06    112\n",
      "2022-11    112\n",
      "2022-10    112\n",
      "2022-09    112\n",
      "2022-08    112\n",
      "2021-04    104\n",
      "2021-03    104\n",
      "2021-02    104\n",
      "2021-01    104\n",
      "2020-12    104\n",
      "2020-11    104\n",
      "2020-10     79\n",
      "2023-05     56\n",
      "2022-05     56\n",
      "2021-05     56\n",
      "Name: report_month, dtype: int64\n",
      "\n",
      "\n",
      "region 14 !!!!!!!!!!!!!!!!!!!!!!/\n",
      "United States     252\n",
      "Ukraine           252\n",
      "Russia            252\n",
      "Nigeria           252\n",
      "Kazakhstan        252\n",
      "Japan             252\n",
      "India             252\n",
      "China             252\n",
      "Canada            252\n",
      "Brazil            251\n",
      "Bangladesh        244\n",
      "Australia         244\n",
      "Argentina         244\n",
      "United Kingdom    196\n",
      "Name: region, dtype: int64\n",
      "\n",
      "\n",
      "commodity 1 !!!!!!!!!!!!!!!!!!!!!!/\n",
      "Wheat    3447\n",
      "Name: commodity, dtype: int64\n",
      "\n",
      "\n",
      "item 4 !!!!!!!!!!!!!!!!!!!!!!/\n",
      "Production       862\n",
      "Imports          862\n",
      "Exports          862\n",
      "Domestic Feed    861\n",
      "Name: item, dtype: int64\n",
      "\n",
      "\n",
      "year 4 !!!!!!!!!!!!!!!!!!!!!!/\n",
      "2021/22 Proj.    1176\n",
      "2022/23 Proj.    1064\n",
      "2020/21 Proj.     703\n",
      "2023/24 Proj.     504\n",
      "Name: year, dtype: int64\n",
      "\n",
      "\n",
      "period 12 !!!!!!!!!!!!!!!!!!!!!!/\n",
      "Aug    336\n",
      "Jul    336\n",
      "Jun    336\n",
      "May    336\n",
      "Dec    328\n",
      "Nov    328\n",
      "Sep    320\n",
      "Oct    315\n",
      "Jan    272\n",
      "Mar    216\n",
      "Feb    216\n",
      "Apr    108\n",
      "Name: period, dtype: int64\n",
      "\n",
      "\n",
      "value 274 !!!!!!!!!!!!!!!!!!!!!!/\n",
      "0.00     111\n",
      "0.60     110\n",
      "0.30      96\n",
      "0.05      88\n",
      "0.50      87\n",
      "        ... \n",
      "12.55      1\n",
      "36.30      1\n",
      "2.59       1\n",
      "75.16      1\n",
      "0.87       1\n",
      "Name: value, Length: 274, dtype: int64\n",
      "\n",
      "\n",
      "min_value 1 !!!!!!!!!!!!!!!!!!!!!!/\n",
      "Series([], Name: min_value, dtype: int64)\n",
      "\n",
      "\n",
      "max_value 1 !!!!!!!!!!!!!!!!!!!!!!/\n",
      "Series([], Name: max_value, dtype: int64)\n"
     ]
    }
   ],
   "source": [
    "#и требуемые нам цели\n",
    "df=df[df['item'].isin(['Production','Imports','Exports','Domestic Feed'])]#,''\n",
    "analize_df(df)"
   ]
  },
  {
   "cell_type": "code",
   "execution_count": 10,
   "id": "41b72f17",
   "metadata": {},
   "outputs": [],
   "source": [
    "#Наши бухгалтера не любят считать одну операцию  дважды, так что избавляемся от дублей\n",
    "df=df.drop_duplicates()"
   ]
  },
  {
   "cell_type": "code",
   "execution_count": 11,
   "id": "4b8f0297",
   "metadata": {},
   "outputs": [
    {
     "data": {
      "text/html": [
       "<div>\n",
       "<style scoped>\n",
       "    .dataframe tbody tr th:only-of-type {\n",
       "        vertical-align: middle;\n",
       "    }\n",
       "\n",
       "    .dataframe tbody tr th {\n",
       "        vertical-align: top;\n",
       "    }\n",
       "\n",
       "    .dataframe thead th {\n",
       "        text-align: right;\n",
       "    }\n",
       "</style>\n",
       "<table border=\"1\" class=\"dataframe\">\n",
       "  <thead>\n",
       "    <tr style=\"text-align: right;\">\n",
       "      <th></th>\n",
       "      <th>code</th>\n",
       "      <th>report_month</th>\n",
       "      <th>region</th>\n",
       "      <th>commodity</th>\n",
       "      <th>year</th>\n",
       "      <th>period</th>\n",
       "      <th>value</th>\n",
       "      <th>min_value</th>\n",
       "      <th>max_value</th>\n",
       "      <th>item_Domestic Feed</th>\n",
       "      <th>item_Exports</th>\n",
       "      <th>item_Imports</th>\n",
       "      <th>item_Production</th>\n",
       "      <th>item_Production_value</th>\n",
       "      <th>item_Imports_value</th>\n",
       "      <th>item_Exports_value</th>\n",
       "      <th>item_Domestic Feed_value</th>\n",
       "    </tr>\n",
       "  </thead>\n",
       "  <tbody>\n",
       "    <tr>\n",
       "      <th>28</th>\n",
       "      <td>WHEAT_WORLD_19</td>\n",
       "      <td>2023-09</td>\n",
       "      <td>United States</td>\n",
       "      <td>Wheat</td>\n",
       "      <td>2023/24 Proj.</td>\n",
       "      <td>Sep</td>\n",
       "      <td>47.20</td>\n",
       "      <td>NaN</td>\n",
       "      <td>NaN</td>\n",
       "      <td>0</td>\n",
       "      <td>0</td>\n",
       "      <td>0</td>\n",
       "      <td>1</td>\n",
       "      <td>47.2</td>\n",
       "      <td>0.00</td>\n",
       "      <td>0.00</td>\n",
       "      <td>0.0</td>\n",
       "    </tr>\n",
       "    <tr>\n",
       "      <th>29</th>\n",
       "      <td>WHEAT_WORLD_19</td>\n",
       "      <td>2023-09</td>\n",
       "      <td>United States</td>\n",
       "      <td>Wheat</td>\n",
       "      <td>2023/24 Proj.</td>\n",
       "      <td>Aug</td>\n",
       "      <td>47.20</td>\n",
       "      <td>NaN</td>\n",
       "      <td>NaN</td>\n",
       "      <td>0</td>\n",
       "      <td>0</td>\n",
       "      <td>0</td>\n",
       "      <td>1</td>\n",
       "      <td>47.2</td>\n",
       "      <td>0.00</td>\n",
       "      <td>0.00</td>\n",
       "      <td>0.0</td>\n",
       "    </tr>\n",
       "    <tr>\n",
       "      <th>30</th>\n",
       "      <td>WHEAT_WORLD_19</td>\n",
       "      <td>2023-09</td>\n",
       "      <td>United States</td>\n",
       "      <td>Wheat</td>\n",
       "      <td>2023/24 Proj.</td>\n",
       "      <td>Sep</td>\n",
       "      <td>3.54</td>\n",
       "      <td>NaN</td>\n",
       "      <td>NaN</td>\n",
       "      <td>0</td>\n",
       "      <td>0</td>\n",
       "      <td>1</td>\n",
       "      <td>0</td>\n",
       "      <td>0.0</td>\n",
       "      <td>3.54</td>\n",
       "      <td>0.00</td>\n",
       "      <td>0.0</td>\n",
       "    </tr>\n",
       "    <tr>\n",
       "      <th>31</th>\n",
       "      <td>WHEAT_WORLD_19</td>\n",
       "      <td>2023-09</td>\n",
       "      <td>United States</td>\n",
       "      <td>Wheat</td>\n",
       "      <td>2023/24 Proj.</td>\n",
       "      <td>Aug</td>\n",
       "      <td>3.54</td>\n",
       "      <td>NaN</td>\n",
       "      <td>NaN</td>\n",
       "      <td>0</td>\n",
       "      <td>0</td>\n",
       "      <td>1</td>\n",
       "      <td>0</td>\n",
       "      <td>0.0</td>\n",
       "      <td>3.54</td>\n",
       "      <td>0.00</td>\n",
       "      <td>0.0</td>\n",
       "    </tr>\n",
       "    <tr>\n",
       "      <th>32</th>\n",
       "      <td>WHEAT_WORLD_19</td>\n",
       "      <td>2023-09</td>\n",
       "      <td>United States</td>\n",
       "      <td>Wheat</td>\n",
       "      <td>2023/24 Proj.</td>\n",
       "      <td>Sep</td>\n",
       "      <td>19.05</td>\n",
       "      <td>NaN</td>\n",
       "      <td>NaN</td>\n",
       "      <td>0</td>\n",
       "      <td>1</td>\n",
       "      <td>0</td>\n",
       "      <td>0</td>\n",
       "      <td>0.0</td>\n",
       "      <td>0.00</td>\n",
       "      <td>19.05</td>\n",
       "      <td>0.0</td>\n",
       "    </tr>\n",
       "  </tbody>\n",
       "</table>\n",
       "</div>"
      ],
      "text/plain": [
       "              code report_month         region commodity           year  \\\n",
       "28  WHEAT_WORLD_19      2023-09  United States     Wheat  2023/24 Proj.   \n",
       "29  WHEAT_WORLD_19      2023-09  United States     Wheat  2023/24 Proj.   \n",
       "30  WHEAT_WORLD_19      2023-09  United States     Wheat  2023/24 Proj.   \n",
       "31  WHEAT_WORLD_19      2023-09  United States     Wheat  2023/24 Proj.   \n",
       "32  WHEAT_WORLD_19      2023-09  United States     Wheat  2023/24 Proj.   \n",
       "\n",
       "   period  value  min_value  max_value  item_Domestic Feed  item_Exports  \\\n",
       "28    Sep  47.20        NaN        NaN                   0             0   \n",
       "29    Aug  47.20        NaN        NaN                   0             0   \n",
       "30    Sep   3.54        NaN        NaN                   0             0   \n",
       "31    Aug   3.54        NaN        NaN                   0             0   \n",
       "32    Sep  19.05        NaN        NaN                   0             1   \n",
       "\n",
       "    item_Imports  item_Production  item_Production_value  item_Imports_value  \\\n",
       "28             0                1                   47.2                0.00   \n",
       "29             0                1                   47.2                0.00   \n",
       "30             1                0                    0.0                3.54   \n",
       "31             1                0                    0.0                3.54   \n",
       "32             0                0                    0.0                0.00   \n",
       "\n",
       "    item_Exports_value  item_Domestic Feed_value  \n",
       "28                0.00                       0.0  \n",
       "29                0.00                       0.0  \n",
       "30                0.00                       0.0  \n",
       "31                0.00                       0.0  \n",
       "32               19.05                       0.0  "
      ]
     },
     "execution_count": 11,
     "metadata": {},
     "output_type": "execute_result"
    }
   ],
   "source": [
    "#бьём разнотипные операции по столбцам\n",
    "i ='item'\n",
    "index_array=df[i].value_counts().index.tolist()\n",
    "df=df.join(pd.get_dummies(df[i])).drop(i, axis=1)\n",
    "for ii in (index_array):\n",
    "    df[i+\"_\"+ii+\"_\"+'value']=df[ii]*df['value']\n",
    "    df=df.rename(columns={ii: i+\"_\"+ii})\n",
    "df.head()"
   ]
  },
  {
   "cell_type": "code",
   "execution_count": 12,
   "id": "8a3b111f",
   "metadata": {},
   "outputs": [
    {
     "data": {
      "text/html": [
       "<div>\n",
       "<style scoped>\n",
       "    .dataframe tbody tr th:only-of-type {\n",
       "        vertical-align: middle;\n",
       "    }\n",
       "\n",
       "    .dataframe tbody tr th {\n",
       "        vertical-align: top;\n",
       "    }\n",
       "\n",
       "    .dataframe thead th {\n",
       "        text-align: right;\n",
       "    }\n",
       "</style>\n",
       "<table border=\"1\" class=\"dataframe\">\n",
       "  <thead>\n",
       "    <tr style=\"text-align: right;\">\n",
       "      <th></th>\n",
       "      <th>region</th>\n",
       "      <th>item_Domestic Feed</th>\n",
       "      <th>item_Exports</th>\n",
       "      <th>item_Imports</th>\n",
       "      <th>item_Production</th>\n",
       "      <th>item_Production_value</th>\n",
       "      <th>item_Imports_value</th>\n",
       "      <th>item_Exports_value</th>\n",
       "      <th>item_Domestic Feed_value</th>\n",
       "    </tr>\n",
       "  </thead>\n",
       "  <tbody>\n",
       "    <tr>\n",
       "      <th>28</th>\n",
       "      <td>United States</td>\n",
       "      <td>0</td>\n",
       "      <td>0</td>\n",
       "      <td>0</td>\n",
       "      <td>1</td>\n",
       "      <td>47.2</td>\n",
       "      <td>0.00</td>\n",
       "      <td>0.00</td>\n",
       "      <td>0.0</td>\n",
       "    </tr>\n",
       "    <tr>\n",
       "      <th>29</th>\n",
       "      <td>United States</td>\n",
       "      <td>0</td>\n",
       "      <td>0</td>\n",
       "      <td>0</td>\n",
       "      <td>1</td>\n",
       "      <td>47.2</td>\n",
       "      <td>0.00</td>\n",
       "      <td>0.00</td>\n",
       "      <td>0.0</td>\n",
       "    </tr>\n",
       "    <tr>\n",
       "      <th>30</th>\n",
       "      <td>United States</td>\n",
       "      <td>0</td>\n",
       "      <td>0</td>\n",
       "      <td>1</td>\n",
       "      <td>0</td>\n",
       "      <td>0.0</td>\n",
       "      <td>3.54</td>\n",
       "      <td>0.00</td>\n",
       "      <td>0.0</td>\n",
       "    </tr>\n",
       "    <tr>\n",
       "      <th>31</th>\n",
       "      <td>United States</td>\n",
       "      <td>0</td>\n",
       "      <td>0</td>\n",
       "      <td>1</td>\n",
       "      <td>0</td>\n",
       "      <td>0.0</td>\n",
       "      <td>3.54</td>\n",
       "      <td>0.00</td>\n",
       "      <td>0.0</td>\n",
       "    </tr>\n",
       "    <tr>\n",
       "      <th>32</th>\n",
       "      <td>United States</td>\n",
       "      <td>0</td>\n",
       "      <td>1</td>\n",
       "      <td>0</td>\n",
       "      <td>0</td>\n",
       "      <td>0.0</td>\n",
       "      <td>0.00</td>\n",
       "      <td>19.05</td>\n",
       "      <td>0.0</td>\n",
       "    </tr>\n",
       "  </tbody>\n",
       "</table>\n",
       "</div>"
      ],
      "text/plain": [
       "           region  item_Domestic Feed  item_Exports  item_Imports  \\\n",
       "28  United States                   0             0             0   \n",
       "29  United States                   0             0             0   \n",
       "30  United States                   0             0             1   \n",
       "31  United States                   0             0             1   \n",
       "32  United States                   0             1             0   \n",
       "\n",
       "    item_Production  item_Production_value  item_Imports_value  \\\n",
       "28                1                   47.2                0.00   \n",
       "29                1                   47.2                0.00   \n",
       "30                0                    0.0                3.54   \n",
       "31                0                    0.0                3.54   \n",
       "32                0                    0.0                0.00   \n",
       "\n",
       "    item_Exports_value  item_Domestic Feed_value  \n",
       "28                0.00                       0.0  \n",
       "29                0.00                       0.0  \n",
       "30                0.00                       0.0  \n",
       "31                0.00                       0.0  \n",
       "32               19.05                       0.0  "
      ]
     },
     "execution_count": 12,
     "metadata": {},
     "output_type": "execute_result"
    }
   ],
   "source": [
    "df=df.drop(['code','commodity','year','report_month','period','min_value', 'max_value','value'], axis=1)\n",
    "df.head()"
   ]
  },
  {
   "cell_type": "code",
   "execution_count": 13,
   "id": "f2cf3a81",
   "metadata": {
    "scrolled": true
   },
   "outputs": [
    {
     "data": {
      "text/html": [
       "<div>\n",
       "<style scoped>\n",
       "    .dataframe tbody tr th:only-of-type {\n",
       "        vertical-align: middle;\n",
       "    }\n",
       "\n",
       "    .dataframe tbody tr th {\n",
       "        vertical-align: top;\n",
       "    }\n",
       "\n",
       "    .dataframe thead th {\n",
       "        text-align: right;\n",
       "    }\n",
       "</style>\n",
       "<table border=\"1\" class=\"dataframe\">\n",
       "  <thead>\n",
       "    <tr style=\"text-align: right;\">\n",
       "      <th></th>\n",
       "      <th>item_Domestic Feed</th>\n",
       "      <th>item_Exports</th>\n",
       "      <th>item_Imports</th>\n",
       "      <th>item_Production</th>\n",
       "      <th>item_Production_value</th>\n",
       "      <th>item_Imports_value</th>\n",
       "      <th>item_Exports_value</th>\n",
       "      <th>item_Domestic Feed_value</th>\n",
       "    </tr>\n",
       "    <tr>\n",
       "      <th>region</th>\n",
       "      <th></th>\n",
       "      <th></th>\n",
       "      <th></th>\n",
       "      <th></th>\n",
       "      <th></th>\n",
       "      <th></th>\n",
       "      <th></th>\n",
       "      <th></th>\n",
       "    </tr>\n",
       "  </thead>\n",
       "  <tbody>\n",
       "    <tr>\n",
       "      <th>Argentina</th>\n",
       "      <td>61</td>\n",
       "      <td>61</td>\n",
       "      <td>61</td>\n",
       "      <td>61</td>\n",
       "      <td>1127.38</td>\n",
       "      <td>0.39</td>\n",
       "      <td>756.50</td>\n",
       "      <td>3.45</td>\n",
       "    </tr>\n",
       "    <tr>\n",
       "      <th>Australia</th>\n",
       "      <td>61</td>\n",
       "      <td>61</td>\n",
       "      <td>61</td>\n",
       "      <td>61</td>\n",
       "      <td>1911.60</td>\n",
       "      <td>13.40</td>\n",
       "      <td>1403.00</td>\n",
       "      <td>280.40</td>\n",
       "    </tr>\n",
       "    <tr>\n",
       "      <th>Bangladesh</th>\n",
       "      <td>61</td>\n",
       "      <td>61</td>\n",
       "      <td>61</td>\n",
       "      <td>61</td>\n",
       "      <td>69.44</td>\n",
       "      <td>407.70</td>\n",
       "      <td>0.00</td>\n",
       "      <td>24.95</td>\n",
       "    </tr>\n",
       "    <tr>\n",
       "      <th>Brazil</th>\n",
       "      <td>62</td>\n",
       "      <td>63</td>\n",
       "      <td>63</td>\n",
       "      <td>63</td>\n",
       "      <td>510.55</td>\n",
       "      <td>400.10</td>\n",
       "      <td>130.25</td>\n",
       "      <td>36.90</td>\n",
       "    </tr>\n",
       "    <tr>\n",
       "      <th>Canada</th>\n",
       "      <td>63</td>\n",
       "      <td>63</td>\n",
       "      <td>63</td>\n",
       "      <td>63</td>\n",
       "      <td>1977.27</td>\n",
       "      <td>37.80</td>\n",
       "      <td>1455.90</td>\n",
       "      <td>248.20</td>\n",
       "    </tr>\n",
       "  </tbody>\n",
       "</table>\n",
       "</div>"
      ],
      "text/plain": [
       "            item_Domestic Feed  item_Exports  item_Imports  item_Production  \\\n",
       "region                                                                        \n",
       "Argentina                   61            61            61               61   \n",
       "Australia                   61            61            61               61   \n",
       "Bangladesh                  61            61            61               61   \n",
       "Brazil                      62            63            63               63   \n",
       "Canada                      63            63            63               63   \n",
       "\n",
       "            item_Production_value  item_Imports_value  item_Exports_value  \\\n",
       "region                                                                      \n",
       "Argentina                 1127.38                0.39              756.50   \n",
       "Australia                 1911.60               13.40             1403.00   \n",
       "Bangladesh                  69.44              407.70                0.00   \n",
       "Brazil                     510.55              400.10              130.25   \n",
       "Canada                    1977.27               37.80             1455.90   \n",
       "\n",
       "            item_Domestic Feed_value  \n",
       "region                                \n",
       "Argentina                       3.45  \n",
       "Australia                     280.40  \n",
       "Bangladesh                     24.95  \n",
       "Brazil                         36.90  \n",
       "Canada                        248.20  "
      ]
     },
     "execution_count": 13,
     "metadata": {},
     "output_type": "execute_result"
    }
   ],
   "source": [
    "#И сгребаем всё в кучку\n",
    "df1=df.groupby([df['region']]).sum()\n",
    "df1.head()"
   ]
  },
  {
   "cell_type": "code",
   "execution_count": 14,
   "id": "c4060dc9",
   "metadata": {
    "scrolled": true
   },
   "outputs": [
    {
     "data": {
      "text/html": [
       "<div>\n",
       "<style scoped>\n",
       "    .dataframe tbody tr th:only-of-type {\n",
       "        vertical-align: middle;\n",
       "    }\n",
       "\n",
       "    .dataframe tbody tr th {\n",
       "        vertical-align: top;\n",
       "    }\n",
       "\n",
       "    .dataframe thead th {\n",
       "        text-align: right;\n",
       "    }\n",
       "</style>\n",
       "<table border=\"1\" class=\"dataframe\">\n",
       "  <thead>\n",
       "    <tr style=\"text-align: right;\">\n",
       "      <th></th>\n",
       "      <th>item_Production_value</th>\n",
       "      <th>item_Imports_value</th>\n",
       "      <th>item_Exports_value</th>\n",
       "      <th>item_Domestic Feed_value</th>\n",
       "    </tr>\n",
       "    <tr>\n",
       "      <th>region</th>\n",
       "      <th></th>\n",
       "      <th></th>\n",
       "      <th></th>\n",
       "      <th></th>\n",
       "    </tr>\n",
       "  </thead>\n",
       "  <tbody>\n",
       "    <tr>\n",
       "      <th>Argentina</th>\n",
       "      <td>18.481639</td>\n",
       "      <td>0.006393</td>\n",
       "      <td>12.401639</td>\n",
       "      <td>0.056557</td>\n",
       "    </tr>\n",
       "    <tr>\n",
       "      <th>Australia</th>\n",
       "      <td>31.337705</td>\n",
       "      <td>0.219672</td>\n",
       "      <td>23.000000</td>\n",
       "      <td>4.596721</td>\n",
       "    </tr>\n",
       "    <tr>\n",
       "      <th>Bangladesh</th>\n",
       "      <td>1.138361</td>\n",
       "      <td>6.683607</td>\n",
       "      <td>0.000000</td>\n",
       "      <td>0.409016</td>\n",
       "    </tr>\n",
       "    <tr>\n",
       "      <th>Brazil</th>\n",
       "      <td>8.103968</td>\n",
       "      <td>6.350794</td>\n",
       "      <td>2.067460</td>\n",
       "      <td>0.595161</td>\n",
       "    </tr>\n",
       "    <tr>\n",
       "      <th>Canada</th>\n",
       "      <td>31.385238</td>\n",
       "      <td>0.600000</td>\n",
       "      <td>23.109524</td>\n",
       "      <td>3.939683</td>\n",
       "    </tr>\n",
       "    <tr>\n",
       "      <th>China</th>\n",
       "      <td>136.729524</td>\n",
       "      <td>9.817460</td>\n",
       "      <td>0.944444</td>\n",
       "      <td>31.746032</td>\n",
       "    </tr>\n",
       "    <tr>\n",
       "      <th>India</th>\n",
       "      <td>107.800000</td>\n",
       "      <td>0.043333</td>\n",
       "      <td>3.815079</td>\n",
       "      <td>6.468254</td>\n",
       "    </tr>\n",
       "    <tr>\n",
       "      <th>Japan</th>\n",
       "      <td>1.083175</td>\n",
       "      <td>5.627778</td>\n",
       "      <td>0.295556</td>\n",
       "      <td>0.659524</td>\n",
       "    </tr>\n",
       "    <tr>\n",
       "      <th>Kazakhstan</th>\n",
       "      <td>13.254444</td>\n",
       "      <td>0.957143</td>\n",
       "      <td>7.934921</td>\n",
       "      <td>1.413492</td>\n",
       "    </tr>\n",
       "    <tr>\n",
       "      <th>Nigeria</th>\n",
       "      <td>0.087937</td>\n",
       "      <td>5.804762</td>\n",
       "      <td>0.520635</td>\n",
       "      <td>0.027778</td>\n",
       "    </tr>\n",
       "    <tr>\n",
       "      <th>Russia</th>\n",
       "      <td>82.895397</td>\n",
       "      <td>0.407937</td>\n",
       "      <td>40.150794</td>\n",
       "      <td>18.873016</td>\n",
       "    </tr>\n",
       "    <tr>\n",
       "      <th>Ukraine</th>\n",
       "      <td>25.222222</td>\n",
       "      <td>0.090476</td>\n",
       "      <td>16.353968</td>\n",
       "      <td>3.434921</td>\n",
       "    </tr>\n",
       "    <tr>\n",
       "      <th>United Kingdom</th>\n",
       "      <td>14.813265</td>\n",
       "      <td>1.973469</td>\n",
       "      <td>1.055102</td>\n",
       "      <td>7.558163</td>\n",
       "    </tr>\n",
       "    <tr>\n",
       "      <th>United States</th>\n",
       "      <td>47.216032</td>\n",
       "      <td>3.309524</td>\n",
       "      <td>22.996508</td>\n",
       "      <td>2.861746</td>\n",
       "    </tr>\n",
       "  </tbody>\n",
       "</table>\n",
       "</div>"
      ],
      "text/plain": [
       "                item_Production_value  item_Imports_value  item_Exports_value  \\\n",
       "region                                                                          \n",
       "Argentina                   18.481639            0.006393           12.401639   \n",
       "Australia                   31.337705            0.219672           23.000000   \n",
       "Bangladesh                   1.138361            6.683607            0.000000   \n",
       "Brazil                       8.103968            6.350794            2.067460   \n",
       "Canada                      31.385238            0.600000           23.109524   \n",
       "China                      136.729524            9.817460            0.944444   \n",
       "India                      107.800000            0.043333            3.815079   \n",
       "Japan                        1.083175            5.627778            0.295556   \n",
       "Kazakhstan                  13.254444            0.957143            7.934921   \n",
       "Nigeria                      0.087937            5.804762            0.520635   \n",
       "Russia                      82.895397            0.407937           40.150794   \n",
       "Ukraine                     25.222222            0.090476           16.353968   \n",
       "United Kingdom              14.813265            1.973469            1.055102   \n",
       "United States               47.216032            3.309524           22.996508   \n",
       "\n",
       "                item_Domestic Feed_value  \n",
       "region                                    \n",
       "Argentina                       0.056557  \n",
       "Australia                       4.596721  \n",
       "Bangladesh                      0.409016  \n",
       "Brazil                          0.595161  \n",
       "Canada                          3.939683  \n",
       "China                          31.746032  \n",
       "India                           6.468254  \n",
       "Japan                           0.659524  \n",
       "Kazakhstan                      1.413492  \n",
       "Nigeria                         0.027778  \n",
       "Russia                         18.873016  \n",
       "Ukraine                         3.434921  \n",
       "United Kingdom                  7.558163  \n",
       "United States                   2.861746  "
      ]
     },
     "execution_count": 14,
     "metadata": {},
     "output_type": "execute_result"
    }
   ],
   "source": [
    "#Приводим к коэфициентам чтобы модели было проще\n",
    "for i in (index_array):\n",
    "    df1['item_'+i+'_value']=df1['item_'+i+'_value']/df1['item_'+i]\n",
    "    df1=df1.drop('item_'+i, axis=1)\n",
    "df1"
   ]
  },
  {
   "cell_type": "code",
   "execution_count": 15,
   "id": "5307efc9",
   "metadata": {},
   "outputs": [
    {
     "data": {
      "text/html": [
       "<div>\n",
       "<style scoped>\n",
       "    .dataframe tbody tr th:only-of-type {\n",
       "        vertical-align: middle;\n",
       "    }\n",
       "\n",
       "    .dataframe tbody tr th {\n",
       "        vertical-align: top;\n",
       "    }\n",
       "\n",
       "    .dataframe thead th {\n",
       "        text-align: right;\n",
       "    }\n",
       "</style>\n",
       "<table border=\"1\" class=\"dataframe\">\n",
       "  <thead>\n",
       "    <tr style=\"text-align: right;\">\n",
       "      <th></th>\n",
       "      <th>item_Production_value</th>\n",
       "      <th>item_Imports_value</th>\n",
       "      <th>item_Exports_value</th>\n",
       "      <th>item_Domestic Feed_value</th>\n",
       "      <th>Exports-Imports</th>\n",
       "      <th>exp_from_dom_%</th>\n",
       "      <th>imp_from_dom_%</th>\n",
       "    </tr>\n",
       "    <tr>\n",
       "      <th>region</th>\n",
       "      <th></th>\n",
       "      <th></th>\n",
       "      <th></th>\n",
       "      <th></th>\n",
       "      <th></th>\n",
       "      <th></th>\n",
       "      <th></th>\n",
       "    </tr>\n",
       "  </thead>\n",
       "  <tbody>\n",
       "    <tr>\n",
       "      <th>Argentina</th>\n",
       "      <td>18.481639</td>\n",
       "      <td>0.006393</td>\n",
       "      <td>12.401639</td>\n",
       "      <td>0.056557</td>\n",
       "      <td>12.395246</td>\n",
       "      <td>21927.536232</td>\n",
       "      <td>11.304348</td>\n",
       "    </tr>\n",
       "    <tr>\n",
       "      <th>Australia</th>\n",
       "      <td>31.337705</td>\n",
       "      <td>0.219672</td>\n",
       "      <td>23.000000</td>\n",
       "      <td>4.596721</td>\n",
       "      <td>22.780328</td>\n",
       "      <td>500.356633</td>\n",
       "      <td>4.778887</td>\n",
       "    </tr>\n",
       "    <tr>\n",
       "      <th>Bangladesh</th>\n",
       "      <td>1.138361</td>\n",
       "      <td>6.683607</td>\n",
       "      <td>0.000000</td>\n",
       "      <td>0.409016</td>\n",
       "      <td>-6.683607</td>\n",
       "      <td>0.000000</td>\n",
       "      <td>1634.068136</td>\n",
       "    </tr>\n",
       "    <tr>\n",
       "      <th>Brazil</th>\n",
       "      <td>8.103968</td>\n",
       "      <td>6.350794</td>\n",
       "      <td>2.067460</td>\n",
       "      <td>0.595161</td>\n",
       "      <td>-4.283333</td>\n",
       "      <td>347.378156</td>\n",
       "      <td>1067.071020</td>\n",
       "    </tr>\n",
       "    <tr>\n",
       "      <th>Canada</th>\n",
       "      <td>31.385238</td>\n",
       "      <td>0.600000</td>\n",
       "      <td>23.109524</td>\n",
       "      <td>3.939683</td>\n",
       "      <td>22.509524</td>\n",
       "      <td>586.583400</td>\n",
       "      <td>15.229654</td>\n",
       "    </tr>\n",
       "    <tr>\n",
       "      <th>China</th>\n",
       "      <td>136.729524</td>\n",
       "      <td>9.817460</td>\n",
       "      <td>0.944444</td>\n",
       "      <td>31.746032</td>\n",
       "      <td>-8.873016</td>\n",
       "      <td>2.975000</td>\n",
       "      <td>30.925000</td>\n",
       "    </tr>\n",
       "    <tr>\n",
       "      <th>India</th>\n",
       "      <td>107.800000</td>\n",
       "      <td>0.043333</td>\n",
       "      <td>3.815079</td>\n",
       "      <td>6.468254</td>\n",
       "      <td>3.771746</td>\n",
       "      <td>58.981595</td>\n",
       "      <td>0.669939</td>\n",
       "    </tr>\n",
       "    <tr>\n",
       "      <th>Japan</th>\n",
       "      <td>1.083175</td>\n",
       "      <td>5.627778</td>\n",
       "      <td>0.295556</td>\n",
       "      <td>0.659524</td>\n",
       "      <td>-5.332222</td>\n",
       "      <td>44.813478</td>\n",
       "      <td>853.309266</td>\n",
       "    </tr>\n",
       "    <tr>\n",
       "      <th>Kazakhstan</th>\n",
       "      <td>13.254444</td>\n",
       "      <td>0.957143</td>\n",
       "      <td>7.934921</td>\n",
       "      <td>1.413492</td>\n",
       "      <td>6.977778</td>\n",
       "      <td>561.370017</td>\n",
       "      <td>67.714767</td>\n",
       "    </tr>\n",
       "    <tr>\n",
       "      <th>Nigeria</th>\n",
       "      <td>0.087937</td>\n",
       "      <td>5.804762</td>\n",
       "      <td>0.520635</td>\n",
       "      <td>0.027778</td>\n",
       "      <td>-5.284127</td>\n",
       "      <td>1874.285714</td>\n",
       "      <td>20897.142857</td>\n",
       "    </tr>\n",
       "    <tr>\n",
       "      <th>Russia</th>\n",
       "      <td>82.895397</td>\n",
       "      <td>0.407937</td>\n",
       "      <td>40.150794</td>\n",
       "      <td>18.873016</td>\n",
       "      <td>39.742857</td>\n",
       "      <td>212.741800</td>\n",
       "      <td>2.161480</td>\n",
       "    </tr>\n",
       "    <tr>\n",
       "      <th>Ukraine</th>\n",
       "      <td>25.222222</td>\n",
       "      <td>0.090476</td>\n",
       "      <td>16.353968</td>\n",
       "      <td>3.434921</td>\n",
       "      <td>16.263492</td>\n",
       "      <td>476.109057</td>\n",
       "      <td>2.634011</td>\n",
       "    </tr>\n",
       "    <tr>\n",
       "      <th>United Kingdom</th>\n",
       "      <td>14.813265</td>\n",
       "      <td>1.973469</td>\n",
       "      <td>1.055102</td>\n",
       "      <td>7.558163</td>\n",
       "      <td>-0.918367</td>\n",
       "      <td>13.959768</td>\n",
       "      <td>26.110436</td>\n",
       "    </tr>\n",
       "    <tr>\n",
       "      <th>United States</th>\n",
       "      <td>47.216032</td>\n",
       "      <td>3.309524</td>\n",
       "      <td>22.996508</td>\n",
       "      <td>2.861746</td>\n",
       "      <td>19.686984</td>\n",
       "      <td>803.583116</td>\n",
       "      <td>115.647013</td>\n",
       "    </tr>\n",
       "  </tbody>\n",
       "</table>\n",
       "</div>"
      ],
      "text/plain": [
       "                item_Production_value  item_Imports_value  item_Exports_value  \\\n",
       "region                                                                          \n",
       "Argentina                   18.481639            0.006393           12.401639   \n",
       "Australia                   31.337705            0.219672           23.000000   \n",
       "Bangladesh                   1.138361            6.683607            0.000000   \n",
       "Brazil                       8.103968            6.350794            2.067460   \n",
       "Canada                      31.385238            0.600000           23.109524   \n",
       "China                      136.729524            9.817460            0.944444   \n",
       "India                      107.800000            0.043333            3.815079   \n",
       "Japan                        1.083175            5.627778            0.295556   \n",
       "Kazakhstan                  13.254444            0.957143            7.934921   \n",
       "Nigeria                      0.087937            5.804762            0.520635   \n",
       "Russia                      82.895397            0.407937           40.150794   \n",
       "Ukraine                     25.222222            0.090476           16.353968   \n",
       "United Kingdom              14.813265            1.973469            1.055102   \n",
       "United States               47.216032            3.309524           22.996508   \n",
       "\n",
       "                item_Domestic Feed_value  Exports-Imports  exp_from_dom_%  \\\n",
       "region                                                                      \n",
       "Argentina                       0.056557        12.395246    21927.536232   \n",
       "Australia                       4.596721        22.780328      500.356633   \n",
       "Bangladesh                      0.409016        -6.683607        0.000000   \n",
       "Brazil                          0.595161        -4.283333      347.378156   \n",
       "Canada                          3.939683        22.509524      586.583400   \n",
       "China                          31.746032        -8.873016        2.975000   \n",
       "India                           6.468254         3.771746       58.981595   \n",
       "Japan                           0.659524        -5.332222       44.813478   \n",
       "Kazakhstan                      1.413492         6.977778      561.370017   \n",
       "Nigeria                         0.027778        -5.284127     1874.285714   \n",
       "Russia                         18.873016        39.742857      212.741800   \n",
       "Ukraine                         3.434921        16.263492      476.109057   \n",
       "United Kingdom                  7.558163        -0.918367       13.959768   \n",
       "United States                   2.861746        19.686984      803.583116   \n",
       "\n",
       "                imp_from_dom_%  \n",
       "region                          \n",
       "Argentina            11.304348  \n",
       "Australia             4.778887  \n",
       "Bangladesh         1634.068136  \n",
       "Brazil             1067.071020  \n",
       "Canada               15.229654  \n",
       "China                30.925000  \n",
       "India                 0.669939  \n",
       "Japan               853.309266  \n",
       "Kazakhstan           67.714767  \n",
       "Nigeria           20897.142857  \n",
       "Russia                2.161480  \n",
       "Ukraine               2.634011  \n",
       "United Kingdom       26.110436  \n",
       "United States       115.647013  "
      ]
     },
     "execution_count": 15,
     "metadata": {},
     "output_type": "execute_result"
    }
   ],
   "source": [
    "#Столбцы для сравнения экспорта с импортом и их процент от потребления\n",
    "df1['Exports-Imports']=df1['item_Exports_value']-df1['item_Imports_value']\n",
    "\n",
    "df1['exp_from_dom_%']=(df1['item_Exports_value']/df1['item_Domestic Feed_value']*100)\n",
    "df1['imp_from_dom_%']=(df1['item_Imports_value']/df1['item_Domestic Feed_value']*100)\n",
    "\n",
    "df1"
   ]
  },
  {
   "cell_type": "code",
   "execution_count": 16,
   "id": "c6b41626",
   "metadata": {},
   "outputs": [
    {
     "name": "stdout",
     "output_type": "stream",
     "text": [
      "item_Production_value\n"
     ]
    },
    {
     "data": {
      "image/png": "[encoded data removed]",
      "text/plain": [
       "<Figure size 500x500 with 1 Axes>"
      ]
     },
     "metadata": {},
     "output_type": "display_data"
    },
    {
     "data": {
      "image/png": "[encoded data removed]",
      "text/plain": [
       "<Figure size 640x480 with 1 Axes>"
      ]
     },
     "metadata": {},
     "output_type": "display_data"
    },
    {
     "name": "stdout",
     "output_type": "stream",
     "text": [
      "0.08793650793650794 9.391587301587302 37.11063619514941 43.25833333333333 136.72952380952378\n",
      "Межквартильный размах: -41.40853174603175 94.05845238095239\n",
      "\n",
      "\n",
      "\n",
      "item_Imports_value\n"
     ]
    },
    {
     "data": {
      "image/png": "[encoded data removed]",
      "text/plain": [
       "<Figure size 500x500 with 1 Axes>"
      ]
     },
     "metadata": {},
     "output_type": "display_data"
    },
    {
     "data": {
      "image/png": "[encoded data removed]",
      "text/plain": [
       "<Figure size 640x480 with 1 Axes>"
      ]
     },
     "metadata": {},
     "output_type": "display_data"
    },
    {
     "name": "stdout",
     "output_type": "stream",
     "text": [
      "0.00639344262295082 0.26673822534478275 2.9923105620077846 5.760515873015873 9.817460317460318\n",
      "Межквартильный размах: -7.973928246161853 14.001182344522508\n",
      "\n",
      "\n",
      "\n",
      "item_Exports_value\n"
     ]
    },
    {
     "data": {
      "image/png": "[encoded data removed]",
      "text/plain": [
       "<Figure size 500x500 with 1 Axes>"
      ]
     },
     "metadata": {},
     "output_type": "display_data"
    },
    {
     "data": {
      "image/png": "[encoded data removed]",
      "text/plain": [
       "<Figure size 640x480 with 1 Axes>"
      ]
     },
     "metadata": {},
     "output_type": "display_data"
    },
    {
     "name": "stdout",
     "output_type": "stream",
     "text": [
      "0.0 0.972108843537415 11.046116448140536 21.335873015873016 40.15079365079365\n",
      "Межквартильный размах: -29.573537414965983 51.881519274376416\n",
      "\n",
      "\n",
      "\n",
      "item_Domestic Feed_value\n"
     ]
    },
    {
     "data": {
      "image/png": "[encoded data removed]",
      "text/plain": [
       "<Figure size 500x500 with 1 Axes>"
      ]
     },
     "metadata": {},
     "output_type": "display_data"
    },
    {
     "data": {
      "image/png": "[encoded data removed]",
      "text/plain": [
       "<Figure size 640x480 with 1 Axes>"
      ]
     },
     "metadata": {},
     "output_type": "display_data"
    },
    {
     "name": "stdout",
     "output_type": "stream",
     "text": [
      "0.027777777777777776 0.6112519201228879 5.902861720145739 6.000370804059329 31.746031746031747\n",
      "Межквартильный размах: -7.472426405781773 14.08404912996399\n",
      "\n",
      "\n",
      "\n",
      "Exports-Imports\n"
     ]
    },
    {
     "data": {
      "image/png": "[encoded data removed]",
      "text/plain": [
       "<Figure size 500x500 with 1 Axes>"
      ]
     },
     "metadata": {},
     "output_type": "display_data"
    },
    {
     "data": {
      "image/png": "[encoded data removed]",
      "text/plain": [
       "<Figure size 640x480 with 1 Axes>"
      ]
     },
     "metadata": {},
     "output_type": "display_data"
    },
    {
     "name": "stdout",
     "output_type": "stream",
     "text": [
      "-8.873015873015873 -5.0339285714285715 8.053805886132752 18.83111111111111 39.74285714285715\n",
      "Межквартильный размах: -40.8314880952381 54.62867063492064\n",
      "\n",
      "\n",
      "\n",
      "exp_from_dom_%\n"
     ]
    },
    {
     "data": {
      "image/png": "[encoded data removed]",
      "text/plain": [
       "<Figure size 500x500 with 1 Axes>"
      ]
     },
     "metadata": {},
     "output_type": "display_data"
    },
    {
     "data": {
      "image/png": "[encoded data removed]",
      "text/plain": [
       "<Figure size 640x480 with 1 Axes>"
      ]
     },
     "metadata": {},
     "output_type": "display_data"
    },
    {
     "name": "stdout",
     "output_type": "stream",
     "text": [
      "0.0 48.355507076255236 1957.905283360043 580.2800545737282 21927.536231884056\n",
      "Межквартильный размах: -749.5313141699543 1378.1668758199376\n",
      "\n",
      "\n",
      "\n",
      "imp_from_dom_%\n"
     ]
    },
    {
     "data": {
      "image/png": "[encoded data removed]",
      "text/plain": [
       "<Figure size 500x500 with 1 Axes>"
      ]
     },
     "metadata": {},
     "output_type": "display_data"
    },
    {
     "data": {
      "image/png": "[encoded data removed]",
      "text/plain": [
       "<Figure size 640x480 with 1 Axes>"
      ]
     },
     "metadata": {},
     "output_type": "display_data"
    },
    {
     "name": "stdout",
     "output_type": "stream",
     "text": [
      "0.6699386503067485 6.41025243441047 1766.3404867208899 668.8937027448558 20897.14285714286\n",
      "Межквартильный размах: -987.3149230312574 1662.6188782105237\n",
      "\n",
      "\n",
      "\n"
     ]
    }
   ],
   "source": [
    "#поиск выбросов\n",
    "#Ищем и убираем выбросы\n",
    "find_outliers(df1.columns,df1)"
   ]
  },
  {
   "cell_type": "code",
   "execution_count": 17,
   "id": "58cb38e7",
   "metadata": {},
   "outputs": [
    {
     "name": "stdout",
     "output_type": "stream",
     "text": [
      "item_Production_value\n",
      "low 0.0\n",
      "high 14.285714285714285\n",
      "all 14.285714285714285\n"
     ]
    }
   ],
   "source": [
    "#Заменяем выбросы\n",
    "df1=replace_outliers(df1,'item_Production_value', 0, 94.06)"
   ]
  },
  {
   "cell_type": "code",
   "execution_count": 18,
   "id": "1f6a9bca",
   "metadata": {},
   "outputs": [
    {
     "data": {
      "text/html": [
       "<div>\n",
       "<style scoped>\n",
       "    .dataframe tbody tr th:only-of-type {\n",
       "        vertical-align: middle;\n",
       "    }\n",
       "\n",
       "    .dataframe tbody tr th {\n",
       "        vertical-align: top;\n",
       "    }\n",
       "\n",
       "    .dataframe thead th {\n",
       "        text-align: right;\n",
       "    }\n",
       "</style>\n",
       "<table border=\"1\" class=\"dataframe\">\n",
       "  <thead>\n",
       "    <tr style=\"text-align: right;\">\n",
       "      <th></th>\n",
       "      <th>region</th>\n",
       "      <th>item_Production_value</th>\n",
       "      <th>item_Imports_value</th>\n",
       "      <th>item_Exports_value</th>\n",
       "      <th>item_Domestic Feed_value</th>\n",
       "      <th>Exports-Imports</th>\n",
       "      <th>exp_from_dom_%</th>\n",
       "      <th>imp_from_dom_%</th>\n",
       "      <th>item_Production_value_outlier</th>\n",
       "    </tr>\n",
       "  </thead>\n",
       "  <tbody>\n",
       "    <tr>\n",
       "      <th>0</th>\n",
       "      <td>Argentina</td>\n",
       "      <td>18.481639</td>\n",
       "      <td>0.006393</td>\n",
       "      <td>12.401639</td>\n",
       "      <td>0.056557</td>\n",
       "      <td>12.395246</td>\n",
       "      <td>21927.536232</td>\n",
       "      <td>11.304348</td>\n",
       "      <td>0</td>\n",
       "    </tr>\n",
       "    <tr>\n",
       "      <th>1</th>\n",
       "      <td>Australia</td>\n",
       "      <td>31.337705</td>\n",
       "      <td>0.219672</td>\n",
       "      <td>23.000000</td>\n",
       "      <td>4.596721</td>\n",
       "      <td>22.780328</td>\n",
       "      <td>500.356633</td>\n",
       "      <td>4.778887</td>\n",
       "      <td>0</td>\n",
       "    </tr>\n",
       "    <tr>\n",
       "      <th>2</th>\n",
       "      <td>Bangladesh</td>\n",
       "      <td>1.138361</td>\n",
       "      <td>6.683607</td>\n",
       "      <td>0.000000</td>\n",
       "      <td>0.409016</td>\n",
       "      <td>-6.683607</td>\n",
       "      <td>0.000000</td>\n",
       "      <td>1634.068136</td>\n",
       "      <td>0</td>\n",
       "    </tr>\n",
       "    <tr>\n",
       "      <th>3</th>\n",
       "      <td>Brazil</td>\n",
       "      <td>8.103968</td>\n",
       "      <td>6.350794</td>\n",
       "      <td>2.067460</td>\n",
       "      <td>0.595161</td>\n",
       "      <td>-4.283333</td>\n",
       "      <td>347.378156</td>\n",
       "      <td>1067.071020</td>\n",
       "      <td>0</td>\n",
       "    </tr>\n",
       "    <tr>\n",
       "      <th>4</th>\n",
       "      <td>Canada</td>\n",
       "      <td>31.385238</td>\n",
       "      <td>0.600000</td>\n",
       "      <td>23.109524</td>\n",
       "      <td>3.939683</td>\n",
       "      <td>22.509524</td>\n",
       "      <td>586.583400</td>\n",
       "      <td>15.229654</td>\n",
       "      <td>0</td>\n",
       "    </tr>\n",
       "    <tr>\n",
       "      <th>5</th>\n",
       "      <td>China</td>\n",
       "      <td>94.060000</td>\n",
       "      <td>9.817460</td>\n",
       "      <td>0.944444</td>\n",
       "      <td>31.746032</td>\n",
       "      <td>-8.873016</td>\n",
       "      <td>2.975000</td>\n",
       "      <td>30.925000</td>\n",
       "      <td>1</td>\n",
       "    </tr>\n",
       "    <tr>\n",
       "      <th>6</th>\n",
       "      <td>India</td>\n",
       "      <td>94.060000</td>\n",
       "      <td>0.043333</td>\n",
       "      <td>3.815079</td>\n",
       "      <td>6.468254</td>\n",
       "      <td>3.771746</td>\n",
       "      <td>58.981595</td>\n",
       "      <td>0.669939</td>\n",
       "      <td>1</td>\n",
       "    </tr>\n",
       "    <tr>\n",
       "      <th>7</th>\n",
       "      <td>Japan</td>\n",
       "      <td>1.083175</td>\n",
       "      <td>5.627778</td>\n",
       "      <td>0.295556</td>\n",
       "      <td>0.659524</td>\n",
       "      <td>-5.332222</td>\n",
       "      <td>44.813478</td>\n",
       "      <td>853.309266</td>\n",
       "      <td>0</td>\n",
       "    </tr>\n",
       "    <tr>\n",
       "      <th>8</th>\n",
       "      <td>Kazakhstan</td>\n",
       "      <td>13.254444</td>\n",
       "      <td>0.957143</td>\n",
       "      <td>7.934921</td>\n",
       "      <td>1.413492</td>\n",
       "      <td>6.977778</td>\n",
       "      <td>561.370017</td>\n",
       "      <td>67.714767</td>\n",
       "      <td>0</td>\n",
       "    </tr>\n",
       "    <tr>\n",
       "      <th>9</th>\n",
       "      <td>Nigeria</td>\n",
       "      <td>0.087937</td>\n",
       "      <td>5.804762</td>\n",
       "      <td>0.520635</td>\n",
       "      <td>0.027778</td>\n",
       "      <td>-5.284127</td>\n",
       "      <td>1874.285714</td>\n",
       "      <td>20897.142857</td>\n",
       "      <td>0</td>\n",
       "    </tr>\n",
       "    <tr>\n",
       "      <th>10</th>\n",
       "      <td>Russia</td>\n",
       "      <td>82.895397</td>\n",
       "      <td>0.407937</td>\n",
       "      <td>40.150794</td>\n",
       "      <td>18.873016</td>\n",
       "      <td>39.742857</td>\n",
       "      <td>212.741800</td>\n",
       "      <td>2.161480</td>\n",
       "      <td>0</td>\n",
       "    </tr>\n",
       "    <tr>\n",
       "      <th>11</th>\n",
       "      <td>Ukraine</td>\n",
       "      <td>25.222222</td>\n",
       "      <td>0.090476</td>\n",
       "      <td>16.353968</td>\n",
       "      <td>3.434921</td>\n",
       "      <td>16.263492</td>\n",
       "      <td>476.109057</td>\n",
       "      <td>2.634011</td>\n",
       "      <td>0</td>\n",
       "    </tr>\n",
       "    <tr>\n",
       "      <th>12</th>\n",
       "      <td>United Kingdom</td>\n",
       "      <td>14.813265</td>\n",
       "      <td>1.973469</td>\n",
       "      <td>1.055102</td>\n",
       "      <td>7.558163</td>\n",
       "      <td>-0.918367</td>\n",
       "      <td>13.959768</td>\n",
       "      <td>26.110436</td>\n",
       "      <td>0</td>\n",
       "    </tr>\n",
       "    <tr>\n",
       "      <th>13</th>\n",
       "      <td>United States</td>\n",
       "      <td>47.216032</td>\n",
       "      <td>3.309524</td>\n",
       "      <td>22.996508</td>\n",
       "      <td>2.861746</td>\n",
       "      <td>19.686984</td>\n",
       "      <td>803.583116</td>\n",
       "      <td>115.647013</td>\n",
       "      <td>0</td>\n",
       "    </tr>\n",
       "  </tbody>\n",
       "</table>\n",
       "</div>"
      ],
      "text/plain": [
       "            region  item_Production_value  item_Imports_value  \\\n",
       "0        Argentina              18.481639            0.006393   \n",
       "1        Australia              31.337705            0.219672   \n",
       "2       Bangladesh               1.138361            6.683607   \n",
       "3           Brazil               8.103968            6.350794   \n",
       "4           Canada              31.385238            0.600000   \n",
       "5            China              94.060000            9.817460   \n",
       "6            India              94.060000            0.043333   \n",
       "7            Japan               1.083175            5.627778   \n",
       "8       Kazakhstan              13.254444            0.957143   \n",
       "9          Nigeria               0.087937            5.804762   \n",
       "10          Russia              82.895397            0.407937   \n",
       "11         Ukraine              25.222222            0.090476   \n",
       "12  United Kingdom              14.813265            1.973469   \n",
       "13   United States              47.216032            3.309524   \n",
       "\n",
       "    item_Exports_value  item_Domestic Feed_value  Exports-Imports  \\\n",
       "0            12.401639                  0.056557        12.395246   \n",
       "1            23.000000                  4.596721        22.780328   \n",
       "2             0.000000                  0.409016        -6.683607   \n",
       "3             2.067460                  0.595161        -4.283333   \n",
       "4            23.109524                  3.939683        22.509524   \n",
       "5             0.944444                 31.746032        -8.873016   \n",
       "6             3.815079                  6.468254         3.771746   \n",
       "7             0.295556                  0.659524        -5.332222   \n",
       "8             7.934921                  1.413492         6.977778   \n",
       "9             0.520635                  0.027778        -5.284127   \n",
       "10           40.150794                 18.873016        39.742857   \n",
       "11           16.353968                  3.434921        16.263492   \n",
       "12            1.055102                  7.558163        -0.918367   \n",
       "13           22.996508                  2.861746        19.686984   \n",
       "\n",
       "    exp_from_dom_%  imp_from_dom_%  item_Production_value_outlier  \n",
       "0     21927.536232       11.304348                              0  \n",
       "1       500.356633        4.778887                              0  \n",
       "2         0.000000     1634.068136                              0  \n",
       "3       347.378156     1067.071020                              0  \n",
       "4       586.583400       15.229654                              0  \n",
       "5         2.975000       30.925000                              1  \n",
       "6        58.981595        0.669939                              1  \n",
       "7        44.813478      853.309266                              0  \n",
       "8       561.370017       67.714767                              0  \n",
       "9      1874.285714    20897.142857                              0  \n",
       "10      212.741800        2.161480                              0  \n",
       "11      476.109057        2.634011                              0  \n",
       "12       13.959768       26.110436                              0  \n",
       "13      803.583116      115.647013                              0  "
      ]
     },
     "execution_count": 18,
     "metadata": {},
     "output_type": "execute_result"
    }
   ],
   "source": [
    "df1=df1.reset_index()\n",
    "df1"
   ]
  },
  {
   "cell_type": "code",
   "execution_count": 19,
   "id": "63f3e471",
   "metadata": {},
   "outputs": [],
   "source": [
    "df1['max_prod']=df1['item_Production_value'].max()\n",
    "df1['max_dom']=df1['item_Domestic Feed_value'].max()\n",
    "y_test=np.array((df1['Exports-Imports']<0)*1)"
   ]
  },
  {
   "cell_type": "markdown",
   "id": "79c6c1d3",
   "metadata": {},
   "source": [
    "Выделить лидеров рынка по производству и по внутреннему потреблению. Оценить процент импорта/экспорта относительно внутреннего потребления."
   ]
  },
  {
   "cell_type": "code",
   "execution_count": 20,
   "id": "320869e8",
   "metadata": {},
   "outputs": [
    {
     "name": "stdout",
     "output_type": "stream",
     "text": [
      "[1 1 1 1 1 0 1 1 1 1 0 1 1 1]\n"
     ]
    },
    {
     "name": "stderr",
     "output_type": "stream",
     "text": [
      "C:\\Users\\User\\anaconda3\\lib\\site-packages\\sklearn\\cluster\\_agglomerative.py:983: FutureWarning: Attribute `affinity` was deprecated in version 1.2 and will be removed in 1.4. Use `metric` instead\n",
      "  warnings.warn(\n"
     ]
    },
    {
     "data": {
      "text/plain": [
       "<matplotlib.collections.PathCollection at 0x160cf224fd0>"
      ]
     },
     "execution_count": 20,
     "metadata": {},
     "output_type": "execute_result"
    },
    {
     "data": {
      "image/png": "[encoded data removed]",
      "text/plain": [
       "<Figure size 640x480 with 1 Axes>"
      ]
     },
     "metadata": {},
     "output_type": "display_data"
    }
   ],
   "source": [
    "#Иерархическая кластеризация\n",
    "\n",
    "cluster = AgglomerativeClustering(n_clusters=2, affinity='euclidean', linkage='ward')\n",
    "cluster.fit_predict(df1[['item_Domestic Feed_value','max_dom']])\n",
    "print(cluster.labels_)#Exports-Imports\n",
    "plt.scatter(df1['item_Domestic Feed_value'],df1['max_dom'], c=cluster.labels_, cmap='rainbow')"
   ]
  },
  {
   "cell_type": "code",
   "execution_count": 21,
   "id": "41f3d1a0",
   "metadata": {},
   "outputs": [
    {
     "name": "stdout",
     "output_type": "stream",
     "text": [
      "Лидеры внутреннего потребления\n",
      "Страна China потребление за период 31.746031746031747\n",
      "Страна Russia потребление за период 18.873015873015873\n"
     ]
    }
   ],
   "source": [
    "print('Лидеры внутреннего потребления')\n",
    "for i in (df1[cluster.labels_==0].sort_values('item_Domestic Feed_value', ascending=False).index):\n",
    "    print('Страна',df1.iloc[i]['region'], 'потребление за период',df1.iloc[i]['item_Domestic Feed_value'])"
   ]
  },
  {
   "cell_type": "code",
   "execution_count": 22,
   "id": "634ebaf4",
   "metadata": {},
   "outputs": [
    {
     "name": "stdout",
     "output_type": "stream",
     "text": [
      "[0 0 0 0 0 1 1 0 0 0 1 0 0 0]\n"
     ]
    },
    {
     "name": "stderr",
     "output_type": "stream",
     "text": [
      "C:\\Users\\User\\anaconda3\\lib\\site-packages\\sklearn\\cluster\\_agglomerative.py:983: FutureWarning: Attribute `affinity` was deprecated in version 1.2 and will be removed in 1.4. Use `metric` instead\n",
      "  warnings.warn(\n"
     ]
    },
    {
     "data": {
      "text/plain": [
       "<matplotlib.collections.PathCollection at 0x160cf2783d0>"
      ]
     },
     "execution_count": 22,
     "metadata": {},
     "output_type": "execute_result"
    },
    {
     "data": {
      "image/png": "[encoded data removed]",
      "text/plain": [
       "<Figure size 640x480 with 1 Axes>"
      ]
     },
     "metadata": {},
     "output_type": "display_data"
    }
   ],
   "source": [
    "#Иерархическая кластеризация\n",
    "\n",
    "cluster = AgglomerativeClustering(n_clusters=2, affinity='euclidean', linkage='ward')\n",
    "cluster.fit_predict(df1[['item_Production_value','max_prod']])\n",
    "print(cluster.labels_)#Exports-Imports\n",
    "plt.scatter(df1['item_Production_value'],df1['max_prod'], c=cluster.labels_, cmap='rainbow')"
   ]
  },
  {
   "cell_type": "code",
   "execution_count": 23,
   "id": "97b738ec",
   "metadata": {},
   "outputs": [
    {
     "name": "stdout",
     "output_type": "stream",
     "text": [
      "Лидеры производства\n",
      "Страна China производство за период 94.06\n",
      "Страна India производство за период 94.06\n",
      "Страна Russia производство за период 82.89539682539683\n"
     ]
    }
   ],
   "source": [
    "print('Лидеры производства')\n",
    "for i in (df1[cluster.labels_==1].sort_values('item_Production_value', ascending=False).index):\n",
    "    print('Страна',df1.iloc[i]['region'], 'производство за период',df1.iloc[i]['item_Production_value'])"
   ]
  },
  {
   "cell_type": "markdown",
   "id": "b65cb209",
   "metadata": {},
   "source": [
    "Иерархическая кластеризация"
   ]
  },
  {
   "cell_type": "code",
   "execution_count": 24,
   "id": "f6b08470",
   "metadata": {},
   "outputs": [
    {
     "name": "stdout",
     "output_type": "stream",
     "text": [
      "[0 0 1 1 0 1 1 1 1 1 0 0 1 0]\n"
     ]
    },
    {
     "name": "stderr",
     "output_type": "stream",
     "text": [
      "C:\\Users\\User\\anaconda3\\lib\\site-packages\\sklearn\\cluster\\_agglomerative.py:983: FutureWarning: Attribute `affinity` was deprecated in version 1.2 and will be removed in 1.4. Use `metric` instead\n",
      "  warnings.warn(\n"
     ]
    }
   ],
   "source": [
    "#экспортёры\n",
    "cluster = AgglomerativeClustering(n_clusters=2, affinity='euclidean', linkage='ward')\n",
    "cluster.fit_predict(df1[['item_Imports_value','item_Exports_value']])\n",
    "print(cluster.labels_)#Exports-Imports"
   ]
  },
  {
   "cell_type": "code",
   "execution_count": 25,
   "id": "5da9579b",
   "metadata": {
    "scrolled": true
   },
   "outputs": [
    {
     "data": {
      "text/plain": [
       "<matplotlib.collections.PathCollection at 0x160cf2def10>"
      ]
     },
     "execution_count": 25,
     "metadata": {},
     "output_type": "execute_result"
    },
    {
     "data": {
      "image/png": "[encoded data removed]",
      "text/plain": [
       "<Figure size 640x480 with 1 Axes>"
      ]
     },
     "metadata": {},
     "output_type": "display_data"
    }
   ],
   "source": [
    "plt.scatter(df1['item_Exports_value'],df1['item_Imports_value'], c=cluster.labels_, cmap='rainbow')"
   ]
  },
  {
   "cell_type": "code",
   "execution_count": 26,
   "id": "ba8b252f",
   "metadata": {},
   "outputs": [
    {
     "name": "stdout",
     "output_type": "stream",
     "text": [
      "экспортёры в абсолютных значениях\n",
      "Страна Russia экспорт в абсолютных значениях 40.15079365079365\n",
      "Страна Canada экспорт в абсолютных значениях 23.10952380952381\n",
      "Страна Australia экспорт в абсолютных значениях 23.0\n",
      "Страна United States экспорт в абсолютных значениях 22.996507936507935\n",
      "Страна Ukraine экспорт в абсолютных значениях 16.353968253968254\n",
      "Страна Argentina экспорт в абсолютных значениях 12.401639344262295\n"
     ]
    }
   ],
   "source": [
    "print('экспортёры в абсолютных значениях')\n",
    "for i in (df1[cluster.labels_==0].sort_values('item_Exports_value', ascending=False).index):\n",
    "    print('Страна',df1.iloc[i]['region'], 'экспорт в абсолютных значениях',df1.iloc[i]['item_Exports_value'])\n"
   ]
  },
  {
   "cell_type": "code",
   "execution_count": 27,
   "id": "57a1b28e",
   "metadata": {},
   "outputs": [
    {
     "name": "stdout",
     "output_type": "stream",
     "text": [
      "экспортёры относительно потребления в %\n",
      "Страна Argentina экспорт относительно потребления в % 21927.536231884056\n",
      "Страна United States экспорт относительно потребления в % 803.5831160907426\n",
      "Страна Canada экспорт относительно потребления в % 586.5834004834811\n",
      "Страна Australia экспорт относительно потребления в % 500.3566333808845\n",
      "Страна Ukraine экспорт относительно потребления в % 476.1090573012939\n",
      "Страна Russia экспорт относительно потребления в % 212.74179983179144\n"
     ]
    }
   ],
   "source": [
    "\n",
    "print('экспортёры относительно потребления в %')\n",
    "for i in (df1[cluster.labels_==0].sort_values('exp_from_dom_%', ascending=False).index):\n",
    "    print('Страна',df1.iloc[i]['region'], 'экспорт относительно потребления в %',df1.iloc[i]['exp_from_dom_%'])"
   ]
  },
  {
   "cell_type": "code",
   "execution_count": 28,
   "id": "22aaa723",
   "metadata": {},
   "outputs": [
    {
     "name": "stdout",
     "output_type": "stream",
     "text": [
      "импортёры в абсолютных значениях\n",
      "Страна China импорт в абсолютных значениях 9.817460317460318\n",
      "Страна Bangladesh импорт в абсолютных значениях 6.683606557377049\n",
      "Страна Brazil импорт в абсолютных значениях 6.350793650793651\n",
      "Страна Nigeria импорт в абсолютных значениях 5.804761904761905\n",
      "Страна Japan импорт в абсолютных значениях 5.627777777777778\n",
      "Страна United Kingdom импорт в абсолютных значениях 1.9734693877551022\n",
      "Страна Kazakhstan импорт в абсолютных значениях 0.9571428571428571\n",
      "Страна India импорт в абсолютных значениях 0.043333333333333335\n"
     ]
    }
   ],
   "source": [
    "print('импортёры в абсолютных значениях')\n",
    "for i in (df1[cluster.labels_==1].sort_values('item_Imports_value', ascending=False).index):\n",
    "    print('Страна',df1.iloc[i]['region'], 'импорт в абсолютных значениях',df1.iloc[i]['item_Imports_value'])"
   ]
  },
  {
   "cell_type": "code",
   "execution_count": 29,
   "id": "d822b302",
   "metadata": {},
   "outputs": [
    {
     "name": "stdout",
     "output_type": "stream",
     "text": [
      "импортёры относительно потребления в %\n",
      "Страна Nigeria импорт относительно потребления в % 20897.14285714286\n",
      "Страна Bangladesh импорт относительно потребления в % 1634.0681362725452\n",
      "Страна Brazil импорт относительно потребления в % 1067.0710199165485\n",
      "Страна Japan импорт относительно потребления в % 853.3092659446451\n",
      "Страна Kazakhstan импорт относительно потребления в % 67.71476698483998\n",
      "Страна China импорт относительно потребления в % 30.925000000000004\n",
      "Страна United Kingdom импорт относительно потребления в % 26.110436073984072\n",
      "Страна India импорт относительно потребления в % 0.6699386503067485\n"
     ]
    }
   ],
   "source": [
    "\n",
    "print('импортёры относительно потребления в %')\n",
    "for i in (df1[cluster.labels_==1].sort_values('imp_from_dom_%', ascending=False).index):\n",
    "    print('Страна',df1.iloc[i]['region'], 'импорт относительно потребления в %',df1.iloc[i]['imp_from_dom_%'])"
   ]
  },
  {
   "cell_type": "code",
   "execution_count": 30,
   "id": "b2f86d5b",
   "metadata": {},
   "outputs": [],
   "source": [
    "y_pred=cluster.labels_"
   ]
  },
  {
   "cell_type": "markdown",
   "id": "5b25fdb5",
   "metadata": {},
   "source": [
    "Создайте матрицу ошибок"
   ]
  },
  {
   "cell_type": "code",
   "execution_count": 31,
   "id": "06294953",
   "metadata": {},
   "outputs": [
    {
     "name": "stdout",
     "output_type": "stream",
     "text": [
      "F-мерa: 0.8571428571428571\n",
      "Достоверность accuracy: 0.8571428571428571\n",
      "Точность precision: 0.75\n",
      "Полнота recall: 1.0\n"
     ]
    },
    {
     "data": {
      "text/plain": [
       "Text(0.5, 23.52222222222222, 'Предсказанные значения')"
      ]
     },
     "execution_count": 31,
     "metadata": {},
     "output_type": "execute_result"
    },
    {
     "data": {
      "image/png": "[encoded data removed]",
      "text/plain": [
       "<Figure size 640x480 with 2 Axes>"
      ]
     },
     "metadata": {},
     "output_type": "display_data"
    }
   ],
   "source": [
    "\n",
    "res_matrix = confusion_matrix(y_test, y_pred)\n",
    "class_names = [0, 1]\n",
    "fig, ax = plt.subplots()\n",
    "ticks = np.arange(len(class_names))\n",
    "plt.xticks(ticks, class_names)\n",
    "plt.yticks(ticks, class_names)\n",
    "sns.heatmap(pd.DataFrame(confusion_matrix(y_test, y_pred)),annot=True)\n",
    "\n",
    "\n",
    "print(f'F-мерa: {f1_score(y_test, y_pred)}')\n",
    "print(f'Достоверность accuracy: {accuracy_score(y_test, y_pred)}')\n",
    "print(f'Точность precision: {precision_score(y_true=y_test, y_pred=y_pred, average=\"binary\", pos_label=1)}')\n",
    "print(f'Полнота recall: {recall_score(y_test, y_pred, average=\"binary\", pos_label=1)}')\n",
    "\n",
    "plt.ylabel('Действительные значения')\n",
    "plt.xlabel('Предсказанные значения')"
   ]
  },
  {
   "cell_type": "markdown",
   "id": "c24c6180",
   "metadata": {},
   "source": [
    "k-Means"
   ]
  },
  {
   "cell_type": "code",
   "execution_count": 41,
   "id": "b9adab91",
   "metadata": {},
   "outputs": [
    {
     "name": "stdout",
     "output_type": "stream",
     "text": [
      "[0 0 1 1 0 1 0 1 0 1 0 0 0 0]\n"
     ]
    },
    {
     "data": {
      "text/plain": [
       "<matplotlib.collections.PathCollection at 0x160ca233580>"
      ]
     },
     "execution_count": 41,
     "metadata": {},
     "output_type": "execute_result"
    },
    {
     "data": {
      "image/png": "[encoded data removed]",
      "text/plain": [
       "<Figure size 640x480 with 1 Axes>"
      ]
     },
     "metadata": {},
     "output_type": "display_data"
    }
   ],
   "source": [
    "\n",
    "model = KNeighborsClassifier(n_neighbors = 1)\n",
    "model.fit(df1[['item_Imports_value','item_Exports_value']][:-2],y_test[:-2])\n",
    "y_pred_k=model.predict(df1[['item_Imports_value','item_Exports_value']][-2:])\n",
    "y_pred_f=model.predict(df1[['item_Imports_value','item_Exports_value']])\n",
    "print(y_pred_f)#Exports-Imports\n",
    "plt.scatter(df1['item_Exports_value'],df1['item_Imports_value'], c=cluster.labels_, cmap='rainbow')"
   ]
  },
  {
   "cell_type": "code",
   "execution_count": 42,
   "id": "ed1d9d92",
   "metadata": {},
   "outputs": [
    {
     "name": "stdout",
     "output_type": "stream",
     "text": [
      "экспортёры в абсолютных значениях\n",
      "Страна Russia экспорт в абсолютных значениях 40.15079365079365\n",
      "Страна Canada экспорт в абсолютных значениях 23.10952380952381\n",
      "Страна Australia экспорт в абсолютных значениях 23.0\n",
      "Страна United States экспорт в абсолютных значениях 22.996507936507935\n",
      "Страна Ukraine экспорт в абсолютных значениях 16.353968253968254\n",
      "Страна Argentina экспорт в абсолютных значениях 12.401639344262295\n",
      "Страна Kazakhstan экспорт в абсолютных значениях 7.934920634920634\n",
      "Страна India экспорт в абсолютных значениях 3.815079365079365\n",
      "Страна United Kingdom экспорт в абсолютных значениях 1.0551020408163265\n",
      "экспортёры относительно потребления в %\n",
      "Страна Argentina экспорт относительно потребления в % 21927.536231884056\n",
      "Страна United States экспорт относительно потребления в % 803.5831160907426\n",
      "Страна Canada экспорт относительно потребления в % 586.5834004834811\n",
      "Страна Kazakhstan экспорт относительно потребления в % 561.3700168444694\n",
      "Страна Australia экспорт относительно потребления в % 500.3566333808845\n",
      "Страна Ukraine экспорт относительно потребления в % 476.1090573012939\n",
      "Страна Russia экспорт относительно потребления в % 212.74179983179144\n",
      "Страна India экспорт относительно потребления в % 58.98159509202453\n",
      "Страна United Kingdom экспорт относительно потребления в % 13.9597677872283\n",
      "импортёры в абсолютных значениях\n",
      "Страна China импорт в абсолютных значениях 9.817460317460318\n",
      "Страна Bangladesh импорт в абсолютных значениях 6.683606557377049\n",
      "Страна Brazil импорт в абсолютных значениях 6.350793650793651\n",
      "Страна Nigeria импорт в абсолютных значениях 5.804761904761905\n",
      "Страна Japan импорт в абсолютных значениях 5.627777777777778\n",
      "импортёры относительно потребления в %\n",
      "Страна Nigeria импорт относительно потребления в % 20897.14285714286\n",
      "Страна Bangladesh импорт относительно потребления в % 1634.0681362725452\n",
      "Страна Brazil импорт относительно потребления в % 1067.0710199165485\n",
      "Страна Japan импорт относительно потребления в % 853.3092659446451\n",
      "Страна China импорт относительно потребления в % 30.925000000000004\n"
     ]
    }
   ],
   "source": [
    "print('экспортёры в абсолютных значениях')\n",
    "for i in (df1[y_pred_f==0].sort_values('item_Exports_value', ascending=False).index):\n",
    "    print('Страна',df1.iloc[i]['region'], 'экспорт в абсолютных значениях',df1.iloc[i]['item_Exports_value'])\n",
    "\n",
    "\n",
    "\n",
    "print('экспортёры относительно потребления в %')\n",
    "for i in (df1[y_pred_f==0].sort_values('exp_from_dom_%', ascending=False).index):\n",
    "    print('Страна',df1.iloc[i]['region'], 'экспорт относительно потребления в %',df1.iloc[i]['exp_from_dom_%'])\n",
    "\n",
    "\n",
    "print('импортёры в абсолютных значениях')\n",
    "for i in (df1[y_pred_f==1].sort_values('item_Imports_value', ascending=False).index):\n",
    "    print('Страна',df1.iloc[i]['region'], 'импорт в абсолютных значениях',df1.iloc[i]['item_Imports_value'])\n",
    "\n",
    "\n",
    "\n",
    "print('импортёры относительно потребления в %')\n",
    "for i in (df1[y_pred_f==1].sort_values('imp_from_dom_%', ascending=False).index):\n",
    "    print('Страна',df1.iloc[i]['region'], 'импорт относительно потребления в %',df1.iloc[i]['imp_from_dom_%'])"
   ]
  },
  {
   "cell_type": "markdown",
   "id": "a8045708",
   "metadata": {},
   "source": [
    "Создайте матрицу ошибок"
   ]
  },
  {
   "cell_type": "code",
   "execution_count": 46,
   "id": "d788521d",
   "metadata": {},
   "outputs": [
    {
     "name": "stdout",
     "output_type": "stream",
     "text": [
      "F-мерa: 0.0\n",
      "Достоверность accuracy: 0.5\n",
      "Точность precision: 0.0\n",
      "Полнота recall: 0.0\n"
     ]
    },
    {
     "name": "stderr",
     "output_type": "stream",
     "text": [
      "C:\\Users\\User\\anaconda3\\lib\\site-packages\\sklearn\\metrics\\_classification.py:1344: UndefinedMetricWarning: Precision is ill-defined and being set to 0.0 due to no predicted samples. Use `zero_division` parameter to control this behavior.\n",
      "  _warn_prf(average, modifier, msg_start, len(result))\n"
     ]
    },
    {
     "data": {
      "text/plain": [
       "Text(0.5, 23.52222222222222, 'Предсказанные значения')"
      ]
     },
     "execution_count": 46,
     "metadata": {},
     "output_type": "execute_result"
    },
    {
     "data": {
      "image/png": "[encoded data removed]",
      "text/plain": [
       "<Figure size 640x480 with 2 Axes>"
      ]
     },
     "metadata": {},
     "output_type": "display_data"
    }
   ],
   "source": [
    "\n",
    "\n",
    "res_matrix = confusion_matrix(y_test[-2:], y_pred_k)\n",
    "class_names = [0, 1]\n",
    "fig, ax = plt.subplots()\n",
    "ticks = np.arange(len(class_names))\n",
    "plt.xticks(ticks, class_names)\n",
    "plt.yticks(ticks, class_names)\n",
    "sns.heatmap(pd.DataFrame(confusion_matrix(y_test[-2:], y_pred_k)),annot=True)\n",
    "\n",
    "\n",
    "print(f'F-мерa: {f1_score(y_test[-2:], y_pred_k)}')\n",
    "print(f'Достоверность accuracy: {accuracy_score(y_test[-2:], y_pred_k)}')\n",
    "print(f'Точность precision: {precision_score(y_true=y_test[-2:], y_pred=y_pred_k, average=\"binary\", pos_label=1)}')\n",
    "print(f'Полнота recall: {recall_score(y_test[-2:], y_pred_k, average=\"binary\", pos_label=1)}')\n",
    "\n",
    "plt.ylabel('Действительные значения')\n",
    "plt.xlabel('Предсказанные значения')"
   ]
  },
  {
   "cell_type": "markdown",
   "id": "cf874503",
   "metadata": {},
   "source": [
    "DBSCAN\n"
   ]
  },
  {
   "cell_type": "code",
   "execution_count": 51,
   "id": "d3480fbf",
   "metadata": {},
   "outputs": [
    {
     "name": "stdout",
     "output_type": "stream",
     "text": [
      "[0 0 1 1 0 0 0 1 0 1 0 0 0 0]\n"
     ]
    }
   ],
   "source": [
    "clustering = DBSCAN(eps=3,min_samples=4).fit(df1[['item_Imports_value','item_Exports_value']])#\n",
    "y_pred_DBSCAN=clustering.labels_+1\n",
    "print(y_pred_DBSCAN)"
   ]
  },
  {
   "cell_type": "code",
   "execution_count": 52,
   "id": "2e93b24d",
   "metadata": {},
   "outputs": [
    {
     "data": {
      "text/plain": [
       "<matplotlib.collections.PathCollection at 0x160d08d8fd0>"
      ]
     },
     "execution_count": 52,
     "metadata": {},
     "output_type": "execute_result"
    },
    {
     "data": {
      "image/png": "[encoded data removed]",
      "text/plain": [
       "<Figure size 640x480 with 1 Axes>"
      ]
     },
     "metadata": {},
     "output_type": "display_data"
    }
   ],
   "source": [
    "plt.scatter(df1['item_Imports_value'],df1['item_Exports_value'], c=clustering.labels_, cmap='rainbow')"
   ]
  },
  {
   "cell_type": "code",
   "execution_count": 53,
   "id": "2d1907dc",
   "metadata": {},
   "outputs": [
    {
     "name": "stdout",
     "output_type": "stream",
     "text": [
      "экспортёры в абсолютных значениях\n",
      "Страна Russia экспорт в абсолютных значениях 40.15079365079365\n",
      "Страна Canada экспорт в абсолютных значениях 23.10952380952381\n",
      "Страна Australia экспорт в абсолютных значениях 23.0\n",
      "Страна United States экспорт в абсолютных значениях 22.996507936507935\n",
      "Страна Ukraine экспорт в абсолютных значениях 16.353968253968254\n",
      "Страна Argentina экспорт в абсолютных значениях 12.401639344262295\n",
      "Страна Kazakhstan экспорт в абсолютных значениях 7.934920634920634\n",
      "Страна India экспорт в абсолютных значениях 3.815079365079365\n",
      "Страна United Kingdom экспорт в абсолютных значениях 1.0551020408163265\n",
      "Страна China экспорт в абсолютных значениях 0.9444444444444444\n",
      "\n",
      "экспортёры относительно потребления в %\n",
      "Страна Argentina экспорт относительно потребления в % 21927.536231884056\n",
      "Страна United States экспорт относительно потребления в % 803.5831160907426\n",
      "Страна Canada экспорт относительно потребления в % 586.5834004834811\n",
      "Страна Kazakhstan экспорт относительно потребления в % 561.3700168444694\n",
      "Страна Australia экспорт относительно потребления в % 500.3566333808845\n",
      "Страна Ukraine экспорт относительно потребления в % 476.1090573012939\n",
      "Страна Russia экспорт относительно потребления в % 212.74179983179144\n",
      "Страна India экспорт относительно потребления в % 58.98159509202453\n",
      "Страна United Kingdom экспорт относительно потребления в % 13.9597677872283\n",
      "Страна China экспорт относительно потребления в % 2.9749999999999996\n",
      "\n",
      "импортёры в абсолютных значениях\n",
      "Страна Bangladesh импорт в абсолютных значениях 6.683606557377049\n",
      "Страна Brazil импорт в абсолютных значениях 6.350793650793651\n",
      "Страна Nigeria импорт в абсолютных значениях 5.804761904761905\n",
      "Страна Japan импорт в абсолютных значениях 5.627777777777778\n",
      "\n",
      "импортёры относительно потребления в %\n",
      "Страна Nigeria импорт относительно потребления в % 20897.14285714286\n",
      "Страна Bangladesh импорт относительно потребления в % 1634.0681362725452\n",
      "Страна Brazil импорт относительно потребления в % 1067.0710199165485\n",
      "Страна Japan импорт относительно потребления в % 853.3092659446451\n"
     ]
    }
   ],
   "source": [
    "print('экспортёры в абсолютных значениях')\n",
    "for i in (df1[y_pred_DBSCAN==0].sort_values('item_Exports_value', ascending=False).index):\n",
    "    print('Страна',df1.iloc[i]['region'], 'экспорт в абсолютных значениях',df1.iloc[i]['item_Exports_value'])\n",
    "\n",
    "\n",
    "\n",
    "print('экспортёры относительно потребления в %')\n",
    "for i in (df1[y_pred_DBSCAN==0].sort_values('exp_from_dom_%', ascending=False).index):\n",
    "    print('Страна',df1.iloc[i]['region'], 'экспорт относительно потребления в %',df1.iloc[i]['exp_from_dom_%'])\n",
    "\n",
    "\n",
    "print('импортёры в абсолютных значениях')\n",
    "for i in (df1[y_pred_DBSCAN==1].sort_values('item_Imports_value', ascending=False).index):\n",
    "    print('Страна',df1.iloc[i]['region'], 'импорт в абсолютных значениях',df1.iloc[i]['item_Imports_value'])\n",
    "\n",
    "\n",
    "\n",
    "print('импортёры относительно потребления в %')\n",
    "for i in (df1[y_pred_DBSCAN==1].sort_values('imp_from_dom_%', ascending=False).index):\n",
    "    print('Страна',df1.iloc[i]['region'], 'импорт относительно потребления в %',df1.iloc[i]['imp_from_dom_%'])\n"
   ]
  },
  {
   "cell_type": "markdown",
   "id": "3d4e2aa9",
   "metadata": {},
   "source": [
    "Создайте матрицу ошибок"
   ]
  },
  {
   "cell_type": "code",
   "execution_count": 55,
   "id": "e6869c71",
   "metadata": {},
   "outputs": [
    {
     "name": "stdout",
     "output_type": "stream",
     "text": [
      "F-мерa: 0.8\n",
      "Достоверность accuracy: 0.8571428571428571\n",
      "Точность precision: 1.0\n",
      "Полнота recall: 0.6666666666666666\n"
     ]
    },
    {
     "data": {
      "text/plain": [
       "Text(0.5, 23.52222222222222, 'Предсказанные значения')"
      ]
     },
     "execution_count": 55,
     "metadata": {},
     "output_type": "execute_result"
    },
    {
     "data": {
      "image/png": "[encoded data removed]",
      "text/plain": [
       "<Figure size 640x480 with 2 Axes>"
      ]
     },
     "metadata": {},
     "output_type": "display_data"
    }
   ],
   "source": [
    "res_matrix = confusion_matrix(y_test, y_pred_DBSCAN)\n",
    "class_names = [0, 1]\n",
    "fig, ax = plt.subplots()\n",
    "ticks = np.arange(len(class_names))\n",
    "plt.xticks(ticks, class_names)\n",
    "plt.yticks(ticks, class_names)\n",
    "sns.heatmap(pd.DataFrame(confusion_matrix(y_test, y_pred_DBSCAN)),annot=True)\n",
    "\n",
    "\n",
    "print(f'F-мерa: {f1_score(y_test, y_pred_DBSCAN)}')\n",
    "print(f'Достоверность accuracy: {accuracy_score(y_test, y_pred_DBSCAN)}')\n",
    "print(f'Точность precision: {precision_score(y_true=y_test, y_pred=y_pred_DBSCAN, average=\"binary\", pos_label=1)}')\n",
    "print(f'Полнота recall: {recall_score(y_test, y_pred_DBSCAN, average=\"binary\", pos_label=1)}')\n",
    "\n",
    "plt.ylabel('Действительные значения')\n",
    "plt.xlabel('Предсказанные значения')\n"
   ]
  },
  {
   "cell_type": "markdown",
   "id": "03fac596",
   "metadata": {},
   "source": [
    "AUC-ROC (или ROC AUC)"
   ]
  },
  {
   "cell_type": "code",
   "execution_count": 59,
   "id": "214eda86",
   "metadata": {},
   "outputs": [
    {
     "name": "stdout",
     "output_type": "stream",
     "text": [
      "AUC-ROC (или ROC AUC) — площадь (Area Under Curve) под кривой ошибок (Receiver Operating Characteristic curve )\n",
      "Иерархическая кластеризация 0.875\n",
      "k-Means 0.9166666666666667\n",
      "k-Means (split) 0.5\n",
      "DBSCAN 0.8333333333333333\n"
     ]
    }
   ],
   "source": [
    "print('AUC-ROC (или ROC AUC) — площадь (Area Under Curve) под кривой ошибок (Receiver Operating Characteristic curve )')\n",
    "fpr_, tpr_, treshold_ = roc_curve(y_test, y_pred)\n",
    "roc_auc_ = auc(fpr_, tpr_)\n",
    "print('Иерархическая кластеризация',roc_auc_)\n",
    "\n",
    "fpr_k, tpr_k, treshold_k = roc_curve(y_test, y_pred_f)  \n",
    "roc_auc_k = auc(fpr_k, tpr_k)\n",
    "print('k-Means',roc_auc_k)\n",
    "\n",
    "fpr_kk, tpr_kk, treshold_kk = roc_curve(y_test[-2:], y_pred_k)  \n",
    "roc_auc_kk = auc(fpr_kk, tpr_kk)\n",
    "print('k-Means (split)',roc_auc_kk)\n",
    "\n",
    "fpr_DBSCAN, tpr_DBSCAN, treshold_DBSCAN = roc_curve(y_test, y_pred_DBSCAN)\n",
    "roc_auc_DBSCAN = auc(fpr_DBSCAN, tpr_DBSCAN)\n",
    "print('DBSCAN',roc_auc_DBSCAN)"
   ]
  },
  {
   "cell_type": "code",
   "execution_count": 61,
   "id": "d8427118",
   "metadata": {},
   "outputs": [
    {
     "data": {
      "image/png": "[encoded data removed]",
      "text/plain": [
       "<Figure size 640x480 with 1 Axes>"
      ]
     },
     "metadata": {},
     "output_type": "display_data"
    }
   ],
   "source": [
    "plt.plot([0, 1], [0, 1], color='navy', linestyle='--')\n",
    "\n",
    "plt.plot(fpr_, tpr_, color='darkorange', label='Иерархическая: ROC кривая (area = %0.6f)' % roc_auc_)\n",
    "plt.plot(fpr_k, tpr_k, color='purple', label='k-Means: ROC кривая (area = %0.6f)' % roc_auc_k)\n",
    "plt.plot(fpr_DBSCAN, tpr_DBSCAN, color='cyan', label='DBSCAN: ROC кривая (area = %0.6f)' % roc_auc_DBSCAN)\n",
    "plt.plot(fpr_kk, tpr_kk, color='green', label='k-Means (split): ROC кривая (area = %0.6f)' % roc_auc_kk)\n",
    "\n",
    "\n",
    "plt.xlim([-0.05, 1.0])\n",
    "plt.ylim([0.0, 1.05])\n",
    "plt.xlabel('False Positive Rate')\n",
    "plt.ylabel('True Positive Rate')\n",
    "plt.title('Пример ROC-кривой')\n",
    "plt.legend(loc=\"lower right\")\n",
    "plt.show()"
   ]
  },
  {
   "cell_type": "markdown",
   "id": "f387d13a",
   "metadata": {},
   "source": [
    "Logistic Loss"
   ]
  },
  {
   "cell_type": "code",
   "execution_count": 62,
   "id": "e86d18f0",
   "metadata": {},
   "outputs": [
    {
     "name": "stdout",
     "output_type": "stream",
     "text": [
      "Иерархическая кластеризация 5.149093341302451\n",
      "k-Means 2.5745466706512254\n",
      "k-Means (split) 18.021826694558577\n",
      "DBSCAN 5.149093341302451\n"
     ]
    }
   ],
   "source": [
    "\n",
    "print('Иерархическая кластеризация',log_loss(y_test, y_pred))\n",
    "\n",
    "print('k-Means',log_loss(y_test, y_pred_f))\n",
    "\n",
    "print('k-Means (split)',log_loss(y_test[-2:], y_pred_k))\n",
    "\n",
    "print('DBSCAN',log_loss(y_test, y_pred_DBSCAN))"
   ]
  },
  {
   "cell_type": "code",
   "execution_count": 63,
   "id": "3eb0f4e0",
   "metadata": {},
   "outputs": [
    {
     "name": "stdout",
     "output_type": "stream",
     "text": [
      "Иерархическая кластеризация\n",
      "экспортёры в абсолютных значениях\n",
      "Страна Russia экспорт в абсолютных значениях 40.15079365079365\n",
      "Страна Canada экспорт в абсолютных значениях 23.10952380952381\n",
      "Страна Australia экспорт в абсолютных значениях 23.0\n",
      "Страна United States экспорт в абсолютных значениях 22.996507936507935\n",
      "Страна Ukraine экспорт в абсолютных значениях 16.353968253968254\n",
      "Страна Argentina экспорт в абсолютных значениях 12.401639344262295\n",
      "\n",
      "экспортёры относительно потребления в %\n",
      "Страна Argentina экспорт относительно потребления в % 21927.536231884056\n",
      "Страна United States экспорт относительно потребления в % 803.5831160907426\n",
      "Страна Canada экспорт относительно потребления в % 586.5834004834811\n",
      "Страна Australia экспорт относительно потребления в % 500.3566333808845\n",
      "Страна Ukraine экспорт относительно потребления в % 476.1090573012939\n",
      "Страна Russia экспорт относительно потребления в % 212.74179983179144\n",
      "\n",
      "импортёры в абсолютных значениях\n",
      "Страна China импорт в абсолютных значениях 9.817460317460318\n",
      "Страна Bangladesh импорт в абсолютных значениях 6.683606557377049\n",
      "Страна Brazil импорт в абсолютных значениях 6.350793650793651\n",
      "Страна Nigeria импорт в абсолютных значениях 5.804761904761905\n",
      "Страна Japan импорт в абсолютных значениях 5.627777777777778\n",
      "Страна United Kingdom импорт в абсолютных значениях 1.9734693877551022\n",
      "Страна Kazakhstan импорт в абсолютных значениях 0.9571428571428571\n",
      "Страна India импорт в абсолютных значениях 0.043333333333333335\n",
      "\n",
      "импортёры относительно потребления в %\n",
      "Страна Nigeria импорт относительно потребления в % 20897.14285714286\n",
      "Страна Bangladesh импорт относительно потребления в % 1634.0681362725452\n",
      "Страна Brazil импорт относительно потребления в % 1067.0710199165485\n",
      "Страна Japan импорт относительно потребления в % 853.3092659446451\n",
      "Страна Kazakhstan импорт относительно потребления в % 67.71476698483998\n",
      "Страна China импорт относительно потребления в % 30.925000000000004\n",
      "Страна United Kingdom импорт относительно потребления в % 26.110436073984072\n",
      "Страна India импорт относительно потребления в % 0.6699386503067485\n"
     ]
    }
   ],
   "source": [
    "print('Иерархическая кластеризация')\n",
    "print('экспортёры в абсолютных значениях')\n",
    "for i in (df1[y_pred==0].sort_values('item_Exports_value', ascending=False).index):\n",
    "    print('Страна',df1.iloc[i]['region'], 'экспорт в абсолютных значениях',df1.iloc[i]['item_Exports_value'])\n",
    "\n",
    "\n",
    "\n",
    "print('экспортёры относительно потребления в %')\n",
    "for i in (df1[y_pred==0].sort_values('exp_from_dom_%', ascending=False).index):\n",
    "    print('Страна',df1.iloc[i]['region'], 'экспорт относительно потребления в %',df1.iloc[i]['exp_from_dom_%'])\n",
    "\n",
    "\n",
    "print('импортёры в абсолютных значениях')\n",
    "for i in (df1[y_pred==1].sort_values('item_Imports_value', ascending=False).index):\n",
    "    print('Страна',df1.iloc[i]['region'], 'импорт в абсолютных значениях',df1.iloc[i]['item_Imports_value'])\n",
    "\n",
    "\n",
    "\n",
    "print('импортёры относительно потребления в %')\n",
    "for i in (df1[y_pred==1].sort_values('imp_from_dom_%', ascending=False).index):\n",
    "    print('Страна',df1.iloc[i]['region'], 'импорт относительно потребления в %',df1.iloc[i]['imp_from_dom_%'])\n"
   ]
  },
  {
   "cell_type": "code",
   "execution_count": 64,
   "id": "4bf94174",
   "metadata": {},
   "outputs": [
    {
     "name": "stdout",
     "output_type": "stream",
     "text": [
      "k-Means\n",
      "экспортёры в абсолютных значениях\n",
      "Страна Russia экспорт в абсолютных значениях 40.15079365079365\n",
      "Страна Canada экспорт в абсолютных значениях 23.10952380952381\n",
      "Страна Australia экспорт в абсолютных значениях 23.0\n",
      "Страна United States экспорт в абсолютных значениях 22.996507936507935\n",
      "Страна Ukraine экспорт в абсолютных значениях 16.353968253968254\n",
      "Страна Argentina экспорт в абсолютных значениях 12.401639344262295\n",
      "Страна Kazakhstan экспорт в абсолютных значениях 7.934920634920634\n",
      "Страна India экспорт в абсолютных значениях 3.815079365079365\n",
      "Страна United Kingdom экспорт в абсолютных значениях 1.0551020408163265\n",
      "\n",
      "экспортёры относительно потребления в %\n",
      "Страна Argentina экспорт относительно потребления в % 21927.536231884056\n",
      "Страна United States экспорт относительно потребления в % 803.5831160907426\n",
      "Страна Canada экспорт относительно потребления в % 586.5834004834811\n",
      "Страна Kazakhstan экспорт относительно потребления в % 561.3700168444694\n",
      "Страна Australia экспорт относительно потребления в % 500.3566333808845\n",
      "Страна Ukraine экспорт относительно потребления в % 476.1090573012939\n",
      "Страна Russia экспорт относительно потребления в % 212.74179983179144\n",
      "Страна India экспорт относительно потребления в % 58.98159509202453\n",
      "Страна United Kingdom экспорт относительно потребления в % 13.9597677872283\n",
      "\n",
      "импортёры в абсолютных значениях\n",
      "Страна China импорт в абсолютных значениях 9.817460317460318\n",
      "Страна Bangladesh импорт в абсолютных значениях 6.683606557377049\n",
      "Страна Brazil импорт в абсолютных значениях 6.350793650793651\n",
      "Страна Nigeria импорт в абсолютных значениях 5.804761904761905\n",
      "Страна Japan импорт в абсолютных значениях 5.627777777777778\n",
      "\n",
      "импортёры относительно потребления в %\n",
      "Страна Nigeria импорт относительно потребления в % 20897.14285714286\n",
      "Страна Bangladesh импорт относительно потребления в % 1634.0681362725452\n",
      "Страна Brazil импорт относительно потребления в % 1067.0710199165485\n",
      "Страна Japan импорт относительно потребления в % 853.3092659446451\n",
      "Страна China импорт относительно потребления в % 30.925000000000004\n"
     ]
    }
   ],
   "source": [
    "print('k-Means')\n",
    "print('экспортёры в абсолютных значениях')\n",
    "for i in (df1[y_pred_f==0].sort_values('item_Exports_value', ascending=False).index):\n",
    "    print('Страна',df1.iloc[i]['region'], 'экспорт в абсолютных значениях',df1.iloc[i]['item_Exports_value'])\n",
    "\n",
    "\n",
    "\n",
    "print('экспортёры относительно потребления в %')\n",
    "for i in (df1[y_pred_f==0].sort_values('exp_from_dom_%', ascending=False).index):\n",
    "    print('Страна',df1.iloc[i]['region'], 'экспорт относительно потребления в %',df1.iloc[i]['exp_from_dom_%'])\n",
    "\n",
    "\n",
    "print('импортёры в абсолютных значениях')\n",
    "for i in (df1[y_pred_f==1].sort_values('item_Imports_value', ascending=False).index):\n",
    "    print('Страна',df1.iloc[i]['region'], 'импорт в абсолютных значениях',df1.iloc[i]['item_Imports_value'])\n",
    "\n",
    "\n",
    "\n",
    "print('импортёры относительно потребления в %')\n",
    "for i in (df1[y_pred_f==1].sort_values('imp_from_dom_%', ascending=False).index):\n",
    "    print('Страна',df1.iloc[i]['region'], 'импорт относительно потребления в %',df1.iloc[i]['imp_from_dom_%'])\n"
   ]
  }
 ],
 "metadata": {
  "kernelspec": {
   "display_name": "Python 3 (ipykernel)",
   "language": "python",
   "name": "python3"
  },
  "language_info": {
   "codemirror_mode": {
    "name": "ipython",
    "version": 3
   },
   "file_extension": ".py",
   "mimetype": "text/x-python",
   "name": "python",
   "nbconvert_exporter": "python",
   "pygments_lexer": "ipython3",
   "version": "3.11.5"
  }
 },
 "nbformat": 4,
 "nbformat_minor": 5
}
